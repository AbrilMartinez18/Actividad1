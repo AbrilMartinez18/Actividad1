{
  "nbformat": 4,
  "nbformat_minor": 0,
  "metadata": {
    "colab": {
      "provenance": [],
      "collapsed_sections": [],
      "authorship_tag": "ABX9TyMJEFLvt0+9SFmVVy0kKpzG",
      "include_colab_link": true
    },
    "kernelspec": {
      "name": "python3",
      "display_name": "Python 3"
    },
    "language_info": {
      "name": "python"
    }
  },
  "cells": [
    {
      "cell_type": "markdown",
      "metadata": {
        "id": "view-in-github",
        "colab_type": "text"
      },
      "source": [
        "<a href=\"https://colab.research.google.com/github/AbrilMartinez18/Actividad1/blob/main/Ciudad2_Actividad1.ipynb\" target=\"_parent\"><img src=\"https://colab.research.google.com/assets/colab-badge.svg\" alt=\"Open In Colab\"/></a>"
      ]
    },
    {
      "cell_type": "markdown",
      "source": [
        "**ACTIVIDAD 1**\n",
        "PT2. LISTINGS- MONTREAL AIRBNB\n",
        "\n",
        "---\n",
        "**Nombre:** Abril Lizeth Martínez Salas\n",
        "--\n",
        "\n",
        "**Matricula:** A01734613\n"
      ],
      "metadata": {
        "id": "flD-zSAiIR2O"
      }
    },
    {
      "cell_type": "code",
      "execution_count": null,
      "metadata": {
        "id": "SFfnPtpJHYsF"
      },
      "outputs": [],
      "source": [
        "import pandas as pd\n",
        "from pandas import DataFrame as df \n",
        "import numpy as np\n",
        "import matplotlib.pyplot as plt\n",
        "import seaborn as sns"
      ]
    },
    {
      "cell_type": "code",
      "source": [
        "montrealDF=pd.read_csv(\"listingsM.csv\")"
      ],
      "metadata": {
        "id": "L1W3T6HTIwEi"
      },
      "execution_count": null,
      "outputs": []
    },
    {
      "cell_type": "code",
      "source": [
        "montrealDF.columns"
      ],
      "metadata": {
        "colab": {
          "base_uri": "https://localhost:8080/"
        },
        "id": "tRrUm-D-I172",
        "outputId": "bcdf5650-e27d-4918-9fba-f36295aae34f"
      },
      "execution_count": null,
      "outputs": [
        {
          "output_type": "execute_result",
          "data": {
            "text/plain": [
              "Index(['id', 'listing_url', 'scrape_id', 'last_scraped', 'source', 'name',\n",
              "       'description', 'neighborhood_overview', 'picture_url', 'host_id',\n",
              "       'host_url', 'host_name', 'host_since', 'host_location', 'host_about',\n",
              "       'host_response_time', 'host_response_rate', 'host_acceptance_rate',\n",
              "       'host_is_superhost', 'host_thumbnail_url', 'host_picture_url',\n",
              "       'host_neighbourhood', 'host_listings_count',\n",
              "       'host_total_listings_count', 'host_verifications',\n",
              "       'host_has_profile_pic', 'host_identity_verified', 'neighbourhood',\n",
              "       'neighbourhood_cleansed', 'neighbourhood_group_cleansed', 'latitude',\n",
              "       'longitude', 'property_type', 'room_type', 'accommodates', 'bathrooms',\n",
              "       'bathrooms_text', 'bedrooms', 'beds', 'amenities', 'price',\n",
              "       'minimum_nights', 'maximum_nights', 'minimum_minimum_nights',\n",
              "       'maximum_minimum_nights', 'minimum_maximum_nights',\n",
              "       'maximum_maximum_nights', 'minimum_nights_avg_ntm',\n",
              "       'maximum_nights_avg_ntm', 'calendar_updated', 'has_availability',\n",
              "       'availability_30', 'availability_60', 'availability_90',\n",
              "       'availability_365', 'calendar_last_scraped', 'number_of_reviews',\n",
              "       'number_of_reviews_ltm', 'number_of_reviews_l30d', 'first_review',\n",
              "       'last_review', 'review_scores_rating', 'review_scores_accuracy',\n",
              "       'review_scores_cleanliness', 'review_scores_checkin',\n",
              "       'review_scores_communication', 'review_scores_location',\n",
              "       'review_scores_value', 'license', 'instant_bookable',\n",
              "       'calculated_host_listings_count',\n",
              "       'calculated_host_listings_count_entire_homes',\n",
              "       'calculated_host_listings_count_private_rooms',\n",
              "       'calculated_host_listings_count_shared_rooms', 'reviews_per_month'],\n",
              "      dtype='object')"
            ]
          },
          "metadata": {},
          "execution_count": 236
        }
      ]
    },
    {
      "cell_type": "code",
      "source": [
        "montrealDF =montrealDF[['host_acceptance_rate','review_scores_rating', 'price', 'review_scores_cleanliness', 'availability_365','review_scores_communication','number_of_reviews','room_type']]"
      ],
      "metadata": {
        "id": "z2qd410OI-HN"
      },
      "execution_count": null,
      "outputs": []
    },
    {
      "cell_type": "code",
      "source": [
        "montrealDF.head(10)"
      ],
      "metadata": {
        "colab": {
          "base_uri": "https://localhost:8080/",
          "height": 363
        },
        "id": "4o0amycNJDik",
        "outputId": "7ef5fccb-5fb1-49db-841a-92284b8d78ec"
      },
      "execution_count": null,
      "outputs": [
        {
          "output_type": "execute_result",
          "data": {
            "text/plain": [
              "  host_acceptance_rate  review_scores_rating    price  \\\n",
              "0                 100%                  4.41   $60.00   \n",
              "1                  97%                  4.68  $152.00   \n",
              "2                  NaN                  4.87  $180.00   \n",
              "3                  97%                  4.68  $286.00   \n",
              "4                   0%                  4.67   $64.00   \n",
              "5                  64%                  4.86  $160.00   \n",
              "6                  63%                  4.79   $45.00   \n",
              "7                  67%                  4.89  $160.00   \n",
              "8                  NaN                  5.00   $33.00   \n",
              "9                  18%                  4.50   $50.00   \n",
              "\n",
              "   review_scores_cleanliness  availability_365  review_scores_communication  \\\n",
              "0                       4.30                80                         4.73   \n",
              "1                       4.65               306                         4.78   \n",
              "2                       4.92               104                         5.00   \n",
              "3                       4.64               250                         4.79   \n",
              "4                       4.95                74                         4.91   \n",
              "5                       5.00               117                         5.00   \n",
              "6                       4.94                90                         4.94   \n",
              "7                       4.84               323                         4.89   \n",
              "8                       4.83                 0                         4.67   \n",
              "9                       4.25               319                         4.81   \n",
              "\n",
              "   number_of_reviews        room_type  \n",
              "0                157     Private room  \n",
              "1                385  Entire home/apt  \n",
              "2                 52  Entire home/apt  \n",
              "3                108  Entire home/apt  \n",
              "4                 22  Entire home/apt  \n",
              "5                  8  Entire home/apt  \n",
              "6                 63  Entire home/apt  \n",
              "7                 45  Entire home/apt  \n",
              "8                  6     Private room  \n",
              "9                 17     Private room  "
            ],
            "text/html": [
              "\n",
              "  <div id=\"df-e4ff4239-196d-4fed-95ed-8866e1da307c\">\n",
              "    <div class=\"colab-df-container\">\n",
              "      <div>\n",
              "<style scoped>\n",
              "    .dataframe tbody tr th:only-of-type {\n",
              "        vertical-align: middle;\n",
              "    }\n",
              "\n",
              "    .dataframe tbody tr th {\n",
              "        vertical-align: top;\n",
              "    }\n",
              "\n",
              "    .dataframe thead th {\n",
              "        text-align: right;\n",
              "    }\n",
              "</style>\n",
              "<table border=\"1\" class=\"dataframe\">\n",
              "  <thead>\n",
              "    <tr style=\"text-align: right;\">\n",
              "      <th></th>\n",
              "      <th>host_acceptance_rate</th>\n",
              "      <th>review_scores_rating</th>\n",
              "      <th>price</th>\n",
              "      <th>review_scores_cleanliness</th>\n",
              "      <th>availability_365</th>\n",
              "      <th>review_scores_communication</th>\n",
              "      <th>number_of_reviews</th>\n",
              "      <th>room_type</th>\n",
              "    </tr>\n",
              "  </thead>\n",
              "  <tbody>\n",
              "    <tr>\n",
              "      <th>0</th>\n",
              "      <td>100%</td>\n",
              "      <td>4.41</td>\n",
              "      <td>$60.00</td>\n",
              "      <td>4.30</td>\n",
              "      <td>80</td>\n",
              "      <td>4.73</td>\n",
              "      <td>157</td>\n",
              "      <td>Private room</td>\n",
              "    </tr>\n",
              "    <tr>\n",
              "      <th>1</th>\n",
              "      <td>97%</td>\n",
              "      <td>4.68</td>\n",
              "      <td>$152.00</td>\n",
              "      <td>4.65</td>\n",
              "      <td>306</td>\n",
              "      <td>4.78</td>\n",
              "      <td>385</td>\n",
              "      <td>Entire home/apt</td>\n",
              "    </tr>\n",
              "    <tr>\n",
              "      <th>2</th>\n",
              "      <td>NaN</td>\n",
              "      <td>4.87</td>\n",
              "      <td>$180.00</td>\n",
              "      <td>4.92</td>\n",
              "      <td>104</td>\n",
              "      <td>5.00</td>\n",
              "      <td>52</td>\n",
              "      <td>Entire home/apt</td>\n",
              "    </tr>\n",
              "    <tr>\n",
              "      <th>3</th>\n",
              "      <td>97%</td>\n",
              "      <td>4.68</td>\n",
              "      <td>$286.00</td>\n",
              "      <td>4.64</td>\n",
              "      <td>250</td>\n",
              "      <td>4.79</td>\n",
              "      <td>108</td>\n",
              "      <td>Entire home/apt</td>\n",
              "    </tr>\n",
              "    <tr>\n",
              "      <th>4</th>\n",
              "      <td>0%</td>\n",
              "      <td>4.67</td>\n",
              "      <td>$64.00</td>\n",
              "      <td>4.95</td>\n",
              "      <td>74</td>\n",
              "      <td>4.91</td>\n",
              "      <td>22</td>\n",
              "      <td>Entire home/apt</td>\n",
              "    </tr>\n",
              "    <tr>\n",
              "      <th>5</th>\n",
              "      <td>64%</td>\n",
              "      <td>4.86</td>\n",
              "      <td>$160.00</td>\n",
              "      <td>5.00</td>\n",
              "      <td>117</td>\n",
              "      <td>5.00</td>\n",
              "      <td>8</td>\n",
              "      <td>Entire home/apt</td>\n",
              "    </tr>\n",
              "    <tr>\n",
              "      <th>6</th>\n",
              "      <td>63%</td>\n",
              "      <td>4.79</td>\n",
              "      <td>$45.00</td>\n",
              "      <td>4.94</td>\n",
              "      <td>90</td>\n",
              "      <td>4.94</td>\n",
              "      <td>63</td>\n",
              "      <td>Entire home/apt</td>\n",
              "    </tr>\n",
              "    <tr>\n",
              "      <th>7</th>\n",
              "      <td>67%</td>\n",
              "      <td>4.89</td>\n",
              "      <td>$160.00</td>\n",
              "      <td>4.84</td>\n",
              "      <td>323</td>\n",
              "      <td>4.89</td>\n",
              "      <td>45</td>\n",
              "      <td>Entire home/apt</td>\n",
              "    </tr>\n",
              "    <tr>\n",
              "      <th>8</th>\n",
              "      <td>NaN</td>\n",
              "      <td>5.00</td>\n",
              "      <td>$33.00</td>\n",
              "      <td>4.83</td>\n",
              "      <td>0</td>\n",
              "      <td>4.67</td>\n",
              "      <td>6</td>\n",
              "      <td>Private room</td>\n",
              "    </tr>\n",
              "    <tr>\n",
              "      <th>9</th>\n",
              "      <td>18%</td>\n",
              "      <td>4.50</td>\n",
              "      <td>$50.00</td>\n",
              "      <td>4.25</td>\n",
              "      <td>319</td>\n",
              "      <td>4.81</td>\n",
              "      <td>17</td>\n",
              "      <td>Private room</td>\n",
              "    </tr>\n",
              "  </tbody>\n",
              "</table>\n",
              "</div>\n",
              "      <button class=\"colab-df-convert\" onclick=\"convertToInteractive('df-e4ff4239-196d-4fed-95ed-8866e1da307c')\"\n",
              "              title=\"Convert this dataframe to an interactive table.\"\n",
              "              style=\"display:none;\">\n",
              "        \n",
              "  <svg xmlns=\"http://www.w3.org/2000/svg\" height=\"24px\"viewBox=\"0 0 24 24\"\n",
              "       width=\"24px\">\n",
              "    <path d=\"M0 0h24v24H0V0z\" fill=\"none\"/>\n",
              "    <path d=\"M18.56 5.44l.94 2.06.94-2.06 2.06-.94-2.06-.94-.94-2.06-.94 2.06-2.06.94zm-11 1L8.5 8.5l.94-2.06 2.06-.94-2.06-.94L8.5 2.5l-.94 2.06-2.06.94zm10 10l.94 2.06.94-2.06 2.06-.94-2.06-.94-.94-2.06-.94 2.06-2.06.94z\"/><path d=\"M17.41 7.96l-1.37-1.37c-.4-.4-.92-.59-1.43-.59-.52 0-1.04.2-1.43.59L10.3 9.45l-7.72 7.72c-.78.78-.78 2.05 0 2.83L4 21.41c.39.39.9.59 1.41.59.51 0 1.02-.2 1.41-.59l7.78-7.78 2.81-2.81c.8-.78.8-2.07 0-2.86zM5.41 20L4 18.59l7.72-7.72 1.47 1.35L5.41 20z\"/>\n",
              "  </svg>\n",
              "      </button>\n",
              "      \n",
              "  <style>\n",
              "    .colab-df-container {\n",
              "      display:flex;\n",
              "      flex-wrap:wrap;\n",
              "      gap: 12px;\n",
              "    }\n",
              "\n",
              "    .colab-df-convert {\n",
              "      background-color: #E8F0FE;\n",
              "      border: none;\n",
              "      border-radius: 50%;\n",
              "      cursor: pointer;\n",
              "      display: none;\n",
              "      fill: #1967D2;\n",
              "      height: 32px;\n",
              "      padding: 0 0 0 0;\n",
              "      width: 32px;\n",
              "    }\n",
              "\n",
              "    .colab-df-convert:hover {\n",
              "      background-color: #E2EBFA;\n",
              "      box-shadow: 0px 1px 2px rgba(60, 64, 67, 0.3), 0px 1px 3px 1px rgba(60, 64, 67, 0.15);\n",
              "      fill: #174EA6;\n",
              "    }\n",
              "\n",
              "    [theme=dark] .colab-df-convert {\n",
              "      background-color: #3B4455;\n",
              "      fill: #D2E3FC;\n",
              "    }\n",
              "\n",
              "    [theme=dark] .colab-df-convert:hover {\n",
              "      background-color: #434B5C;\n",
              "      box-shadow: 0px 1px 3px 1px rgba(0, 0, 0, 0.15);\n",
              "      filter: drop-shadow(0px 1px 2px rgba(0, 0, 0, 0.3));\n",
              "      fill: #FFFFFF;\n",
              "    }\n",
              "  </style>\n",
              "\n",
              "      <script>\n",
              "        const buttonEl =\n",
              "          document.querySelector('#df-e4ff4239-196d-4fed-95ed-8866e1da307c button.colab-df-convert');\n",
              "        buttonEl.style.display =\n",
              "          google.colab.kernel.accessAllowed ? 'block' : 'none';\n",
              "\n",
              "        async function convertToInteractive(key) {\n",
              "          const element = document.querySelector('#df-e4ff4239-196d-4fed-95ed-8866e1da307c');\n",
              "          const dataTable =\n",
              "            await google.colab.kernel.invokeFunction('convertToInteractive',\n",
              "                                                     [key], {});\n",
              "          if (!dataTable) return;\n",
              "\n",
              "          const docLinkHtml = 'Like what you see? Visit the ' +\n",
              "            '<a target=\"_blank\" href=https://colab.research.google.com/notebooks/data_table.ipynb>data table notebook</a>'\n",
              "            + ' to learn more about interactive tables.';\n",
              "          element.innerHTML = '';\n",
              "          dataTable['output_type'] = 'display_data';\n",
              "          await google.colab.output.renderOutput(dataTable, element);\n",
              "          const docLink = document.createElement('div');\n",
              "          docLink.innerHTML = docLinkHtml;\n",
              "          element.appendChild(docLink);\n",
              "        }\n",
              "      </script>\n",
              "    </div>\n",
              "  </div>\n",
              "  "
            ]
          },
          "metadata": {},
          "execution_count": 238
        }
      ]
    },
    {
      "cell_type": "code",
      "source": [
        "montrealDF['room_type'].unique()"
      ],
      "metadata": {
        "colab": {
          "base_uri": "https://localhost:8080/"
        },
        "id": "9c8znr-1JJ_m",
        "outputId": "78c7e479-e9cc-430c-e410-4c29cb04c30c"
      },
      "execution_count": null,
      "outputs": [
        {
          "output_type": "execute_result",
          "data": {
            "text/plain": [
              "array(['Private room', 'Entire home/apt', 'Shared room', 'Hotel room'],\n",
              "      dtype=object)"
            ]
          },
          "metadata": {},
          "execution_count": 239
        }
      ]
    },
    {
      "cell_type": "markdown",
      "source": [
        "**Ajustar formato**"
      ],
      "metadata": {
        "id": "E3eQrdq6JYnj"
      }
    },
    {
      "cell_type": "code",
      "source": [
        "montrealDF[\"host_acceptance_rate\"] =montrealDF[\"host_acceptance_rate\"].str.replace(\"%\",\"\")\n",
        "montrealDF[\"price\"] = montrealDF[\"price\"].str.replace(\"$\",\"\")\n",
        "montrealDF[\"price\"] = montrealDF[\"price\"].str.replace(\",\",\"\")"
      ],
      "metadata": {
        "colab": {
          "base_uri": "https://localhost:8080/"
        },
        "id": "dl1u_eB9JaiM",
        "outputId": "c1ddad12-1127-4c28-97b0-a164dd811787"
      },
      "execution_count": null,
      "outputs": [
        {
          "output_type": "stream",
          "name": "stderr",
          "text": [
            "/usr/local/lib/python3.7/dist-packages/ipykernel_launcher.py:2: FutureWarning: The default value of regex will change from True to False in a future version. In addition, single character regular expressions will *not* be treated as literal strings when regex=True.\n",
            "  \n"
          ]
        }
      ]
    },
    {
      "cell_type": "code",
      "source": [
        "montrealDF.head(10)"
      ],
      "metadata": {
        "colab": {
          "base_uri": "https://localhost:8080/",
          "height": 363
        },
        "id": "hEAn_X2yJ3Cp",
        "outputId": "5b3a0118-412d-4245-9b18-2c12b82ae281"
      },
      "execution_count": null,
      "outputs": [
        {
          "output_type": "execute_result",
          "data": {
            "text/plain": [
              "  host_acceptance_rate  review_scores_rating   price  \\\n",
              "0                  100                  4.41   60.00   \n",
              "1                   97                  4.68  152.00   \n",
              "2                  NaN                  4.87  180.00   \n",
              "3                   97                  4.68  286.00   \n",
              "4                    0                  4.67   64.00   \n",
              "5                   64                  4.86  160.00   \n",
              "6                   63                  4.79   45.00   \n",
              "7                   67                  4.89  160.00   \n",
              "8                  NaN                  5.00   33.00   \n",
              "9                   18                  4.50   50.00   \n",
              "\n",
              "   review_scores_cleanliness  availability_365  review_scores_communication  \\\n",
              "0                       4.30                80                         4.73   \n",
              "1                       4.65               306                         4.78   \n",
              "2                       4.92               104                         5.00   \n",
              "3                       4.64               250                         4.79   \n",
              "4                       4.95                74                         4.91   \n",
              "5                       5.00               117                         5.00   \n",
              "6                       4.94                90                         4.94   \n",
              "7                       4.84               323                         4.89   \n",
              "8                       4.83                 0                         4.67   \n",
              "9                       4.25               319                         4.81   \n",
              "\n",
              "   number_of_reviews        room_type  \n",
              "0                157     Private room  \n",
              "1                385  Entire home/apt  \n",
              "2                 52  Entire home/apt  \n",
              "3                108  Entire home/apt  \n",
              "4                 22  Entire home/apt  \n",
              "5                  8  Entire home/apt  \n",
              "6                 63  Entire home/apt  \n",
              "7                 45  Entire home/apt  \n",
              "8                  6     Private room  \n",
              "9                 17     Private room  "
            ],
            "text/html": [
              "\n",
              "  <div id=\"df-c1836518-0667-4e3c-a710-c539b2e3cc94\">\n",
              "    <div class=\"colab-df-container\">\n",
              "      <div>\n",
              "<style scoped>\n",
              "    .dataframe tbody tr th:only-of-type {\n",
              "        vertical-align: middle;\n",
              "    }\n",
              "\n",
              "    .dataframe tbody tr th {\n",
              "        vertical-align: top;\n",
              "    }\n",
              "\n",
              "    .dataframe thead th {\n",
              "        text-align: right;\n",
              "    }\n",
              "</style>\n",
              "<table border=\"1\" class=\"dataframe\">\n",
              "  <thead>\n",
              "    <tr style=\"text-align: right;\">\n",
              "      <th></th>\n",
              "      <th>host_acceptance_rate</th>\n",
              "      <th>review_scores_rating</th>\n",
              "      <th>price</th>\n",
              "      <th>review_scores_cleanliness</th>\n",
              "      <th>availability_365</th>\n",
              "      <th>review_scores_communication</th>\n",
              "      <th>number_of_reviews</th>\n",
              "      <th>room_type</th>\n",
              "    </tr>\n",
              "  </thead>\n",
              "  <tbody>\n",
              "    <tr>\n",
              "      <th>0</th>\n",
              "      <td>100</td>\n",
              "      <td>4.41</td>\n",
              "      <td>60.00</td>\n",
              "      <td>4.30</td>\n",
              "      <td>80</td>\n",
              "      <td>4.73</td>\n",
              "      <td>157</td>\n",
              "      <td>Private room</td>\n",
              "    </tr>\n",
              "    <tr>\n",
              "      <th>1</th>\n",
              "      <td>97</td>\n",
              "      <td>4.68</td>\n",
              "      <td>152.00</td>\n",
              "      <td>4.65</td>\n",
              "      <td>306</td>\n",
              "      <td>4.78</td>\n",
              "      <td>385</td>\n",
              "      <td>Entire home/apt</td>\n",
              "    </tr>\n",
              "    <tr>\n",
              "      <th>2</th>\n",
              "      <td>NaN</td>\n",
              "      <td>4.87</td>\n",
              "      <td>180.00</td>\n",
              "      <td>4.92</td>\n",
              "      <td>104</td>\n",
              "      <td>5.00</td>\n",
              "      <td>52</td>\n",
              "      <td>Entire home/apt</td>\n",
              "    </tr>\n",
              "    <tr>\n",
              "      <th>3</th>\n",
              "      <td>97</td>\n",
              "      <td>4.68</td>\n",
              "      <td>286.00</td>\n",
              "      <td>4.64</td>\n",
              "      <td>250</td>\n",
              "      <td>4.79</td>\n",
              "      <td>108</td>\n",
              "      <td>Entire home/apt</td>\n",
              "    </tr>\n",
              "    <tr>\n",
              "      <th>4</th>\n",
              "      <td>0</td>\n",
              "      <td>4.67</td>\n",
              "      <td>64.00</td>\n",
              "      <td>4.95</td>\n",
              "      <td>74</td>\n",
              "      <td>4.91</td>\n",
              "      <td>22</td>\n",
              "      <td>Entire home/apt</td>\n",
              "    </tr>\n",
              "    <tr>\n",
              "      <th>5</th>\n",
              "      <td>64</td>\n",
              "      <td>4.86</td>\n",
              "      <td>160.00</td>\n",
              "      <td>5.00</td>\n",
              "      <td>117</td>\n",
              "      <td>5.00</td>\n",
              "      <td>8</td>\n",
              "      <td>Entire home/apt</td>\n",
              "    </tr>\n",
              "    <tr>\n",
              "      <th>6</th>\n",
              "      <td>63</td>\n",
              "      <td>4.79</td>\n",
              "      <td>45.00</td>\n",
              "      <td>4.94</td>\n",
              "      <td>90</td>\n",
              "      <td>4.94</td>\n",
              "      <td>63</td>\n",
              "      <td>Entire home/apt</td>\n",
              "    </tr>\n",
              "    <tr>\n",
              "      <th>7</th>\n",
              "      <td>67</td>\n",
              "      <td>4.89</td>\n",
              "      <td>160.00</td>\n",
              "      <td>4.84</td>\n",
              "      <td>323</td>\n",
              "      <td>4.89</td>\n",
              "      <td>45</td>\n",
              "      <td>Entire home/apt</td>\n",
              "    </tr>\n",
              "    <tr>\n",
              "      <th>8</th>\n",
              "      <td>NaN</td>\n",
              "      <td>5.00</td>\n",
              "      <td>33.00</td>\n",
              "      <td>4.83</td>\n",
              "      <td>0</td>\n",
              "      <td>4.67</td>\n",
              "      <td>6</td>\n",
              "      <td>Private room</td>\n",
              "    </tr>\n",
              "    <tr>\n",
              "      <th>9</th>\n",
              "      <td>18</td>\n",
              "      <td>4.50</td>\n",
              "      <td>50.00</td>\n",
              "      <td>4.25</td>\n",
              "      <td>319</td>\n",
              "      <td>4.81</td>\n",
              "      <td>17</td>\n",
              "      <td>Private room</td>\n",
              "    </tr>\n",
              "  </tbody>\n",
              "</table>\n",
              "</div>\n",
              "      <button class=\"colab-df-convert\" onclick=\"convertToInteractive('df-c1836518-0667-4e3c-a710-c539b2e3cc94')\"\n",
              "              title=\"Convert this dataframe to an interactive table.\"\n",
              "              style=\"display:none;\">\n",
              "        \n",
              "  <svg xmlns=\"http://www.w3.org/2000/svg\" height=\"24px\"viewBox=\"0 0 24 24\"\n",
              "       width=\"24px\">\n",
              "    <path d=\"M0 0h24v24H0V0z\" fill=\"none\"/>\n",
              "    <path d=\"M18.56 5.44l.94 2.06.94-2.06 2.06-.94-2.06-.94-.94-2.06-.94 2.06-2.06.94zm-11 1L8.5 8.5l.94-2.06 2.06-.94-2.06-.94L8.5 2.5l-.94 2.06-2.06.94zm10 10l.94 2.06.94-2.06 2.06-.94-2.06-.94-.94-2.06-.94 2.06-2.06.94z\"/><path d=\"M17.41 7.96l-1.37-1.37c-.4-.4-.92-.59-1.43-.59-.52 0-1.04.2-1.43.59L10.3 9.45l-7.72 7.72c-.78.78-.78 2.05 0 2.83L4 21.41c.39.39.9.59 1.41.59.51 0 1.02-.2 1.41-.59l7.78-7.78 2.81-2.81c.8-.78.8-2.07 0-2.86zM5.41 20L4 18.59l7.72-7.72 1.47 1.35L5.41 20z\"/>\n",
              "  </svg>\n",
              "      </button>\n",
              "      \n",
              "  <style>\n",
              "    .colab-df-container {\n",
              "      display:flex;\n",
              "      flex-wrap:wrap;\n",
              "      gap: 12px;\n",
              "    }\n",
              "\n",
              "    .colab-df-convert {\n",
              "      background-color: #E8F0FE;\n",
              "      border: none;\n",
              "      border-radius: 50%;\n",
              "      cursor: pointer;\n",
              "      display: none;\n",
              "      fill: #1967D2;\n",
              "      height: 32px;\n",
              "      padding: 0 0 0 0;\n",
              "      width: 32px;\n",
              "    }\n",
              "\n",
              "    .colab-df-convert:hover {\n",
              "      background-color: #E2EBFA;\n",
              "      box-shadow: 0px 1px 2px rgba(60, 64, 67, 0.3), 0px 1px 3px 1px rgba(60, 64, 67, 0.15);\n",
              "      fill: #174EA6;\n",
              "    }\n",
              "\n",
              "    [theme=dark] .colab-df-convert {\n",
              "      background-color: #3B4455;\n",
              "      fill: #D2E3FC;\n",
              "    }\n",
              "\n",
              "    [theme=dark] .colab-df-convert:hover {\n",
              "      background-color: #434B5C;\n",
              "      box-shadow: 0px 1px 3px 1px rgba(0, 0, 0, 0.15);\n",
              "      filter: drop-shadow(0px 1px 2px rgba(0, 0, 0, 0.3));\n",
              "      fill: #FFFFFF;\n",
              "    }\n",
              "  </style>\n",
              "\n",
              "      <script>\n",
              "        const buttonEl =\n",
              "          document.querySelector('#df-c1836518-0667-4e3c-a710-c539b2e3cc94 button.colab-df-convert');\n",
              "        buttonEl.style.display =\n",
              "          google.colab.kernel.accessAllowed ? 'block' : 'none';\n",
              "\n",
              "        async function convertToInteractive(key) {\n",
              "          const element = document.querySelector('#df-c1836518-0667-4e3c-a710-c539b2e3cc94');\n",
              "          const dataTable =\n",
              "            await google.colab.kernel.invokeFunction('convertToInteractive',\n",
              "                                                     [key], {});\n",
              "          if (!dataTable) return;\n",
              "\n",
              "          const docLinkHtml = 'Like what you see? Visit the ' +\n",
              "            '<a target=\"_blank\" href=https://colab.research.google.com/notebooks/data_table.ipynb>data table notebook</a>'\n",
              "            + ' to learn more about interactive tables.';\n",
              "          element.innerHTML = '';\n",
              "          dataTable['output_type'] = 'display_data';\n",
              "          await google.colab.output.renderOutput(dataTable, element);\n",
              "          const docLink = document.createElement('div');\n",
              "          docLink.innerHTML = docLinkHtml;\n",
              "          element.appendChild(docLink);\n",
              "        }\n",
              "      </script>\n",
              "    </div>\n",
              "  </div>\n",
              "  "
            ]
          },
          "metadata": {},
          "execution_count": 241
        }
      ]
    },
    {
      "cell_type": "code",
      "source": [
        "montrealDF.dtypes"
      ],
      "metadata": {
        "colab": {
          "base_uri": "https://localhost:8080/"
        },
        "id": "95Dp2a8CJOLV",
        "outputId": "6a9570c1-ed0d-489b-c9a9-57bf99c3f2f4"
      },
      "execution_count": null,
      "outputs": [
        {
          "output_type": "execute_result",
          "data": {
            "text/plain": [
              "host_acceptance_rate            object\n",
              "review_scores_rating           float64\n",
              "price                           object\n",
              "review_scores_cleanliness      float64\n",
              "availability_365                 int64\n",
              "review_scores_communication    float64\n",
              "number_of_reviews                int64\n",
              "room_type                       object\n",
              "dtype: object"
            ]
          },
          "metadata": {},
          "execution_count": 242
        }
      ]
    },
    {
      "cell_type": "markdown",
      "source": [
        "**cambiar tipos de variables**"
      ],
      "metadata": {
        "id": "NnZcDA82KB8K"
      }
    },
    {
      "cell_type": "code",
      "source": [
        "montrealDF['host_acceptance_rate']=montrealDF['host_acceptance_rate'].astype({'host_acceptance_rate': 'float64'})\n",
        "montrealDF['price']=montrealDF['price'].astype({'price': 'float64'})\n"
      ],
      "metadata": {
        "id": "X6cNLpOdKBaE"
      },
      "execution_count": null,
      "outputs": []
    },
    {
      "cell_type": "code",
      "source": [
        "montrealDF.dtypes"
      ],
      "metadata": {
        "colab": {
          "base_uri": "https://localhost:8080/"
        },
        "id": "DCZNoJV9Kezp",
        "outputId": "f5c5b2e2-c922-424c-c75d-062adfc89e48"
      },
      "execution_count": null,
      "outputs": [
        {
          "output_type": "execute_result",
          "data": {
            "text/plain": [
              "host_acceptance_rate           float64\n",
              "review_scores_rating           float64\n",
              "price                          float64\n",
              "review_scores_cleanliness      float64\n",
              "availability_365                 int64\n",
              "review_scores_communication    float64\n",
              "number_of_reviews                int64\n",
              "room_type                       object\n",
              "dtype: object"
            ]
          },
          "metadata": {},
          "execution_count": 244
        }
      ]
    },
    {
      "cell_type": "code",
      "source": [
        "montrealDF.shape"
      ],
      "metadata": {
        "colab": {
          "base_uri": "https://localhost:8080/"
        },
        "id": "MheUHm0_KoHg",
        "outputId": "c2c77832-3f36-4cd6-e5b1-269b01a3a913"
      },
      "execution_count": null,
      "outputs": [
        {
          "output_type": "execute_result",
          "data": {
            "text/plain": [
              "(13621, 8)"
            ]
          },
          "metadata": {},
          "execution_count": 245
        }
      ]
    },
    {
      "cell_type": "markdown",
      "source": [
        "**Dividir dataframes por tipo de habitación**"
      ],
      "metadata": {
        "id": "aBuLB-JwKt_U"
      }
    },
    {
      "cell_type": "code",
      "source": [
        "#1.PRIVATE ROOM\n",
        "PR=montrealDF[montrealDF['room_type']=='Private room']\n",
        "\n",
        "#2.ENTIRE HOME/APT\n",
        "FP=montrealDF[montrealDF['room_type']=='Entire home/apt']\n",
        "\n",
        "#3 SHARED ROOM\n",
        "SR=montrealDF[montrealDF['room_type']=='Shared room']"
      ],
      "metadata": {
        "id": "Gu2KZwdnKsUv"
      },
      "execution_count": null,
      "outputs": []
    },
    {
      "cell_type": "markdown",
      "source": [
        "##**Tipo 1. PrivateRoom**"
      ],
      "metadata": {
        "id": "dyCoi15OLcBV"
      }
    },
    {
      "cell_type": "code",
      "source": [
        "PR=PR[['host_acceptance_rate','review_scores_rating', 'price', 'review_scores_cleanliness', 'availability_365','review_scores_communication','number_of_reviews']]"
      ],
      "metadata": {
        "id": "lame4NNXKtAN"
      },
      "execution_count": null,
      "outputs": []
    },
    {
      "cell_type": "code",
      "source": [
        "PR.head(10)"
      ],
      "metadata": {
        "colab": {
          "base_uri": "https://localhost:8080/",
          "height": 363
        },
        "id": "YJGH9yxcMPqp",
        "outputId": "1e8ae52b-a6a2-44c3-b498-12999e635ba0"
      },
      "execution_count": null,
      "outputs": [
        {
          "output_type": "execute_result",
          "data": {
            "text/plain": [
              "    host_acceptance_rate  review_scores_rating  price  \\\n",
              "0                  100.0                  4.41   60.0   \n",
              "8                    NaN                  5.00   33.0   \n",
              "9                   18.0                  4.50   50.0   \n",
              "10                  78.0                  4.92   32.0   \n",
              "11                  98.0                  4.53   66.0   \n",
              "16                   NaN                   NaN  150.0   \n",
              "18                   NaN                  4.00  150.0   \n",
              "35                  83.0                  4.48   22.0   \n",
              "37                   0.0                  4.95   27.0   \n",
              "42                  90.0                  4.75   42.0   \n",
              "\n",
              "    review_scores_cleanliness  availability_365  review_scores_communication  \\\n",
              "0                        4.30                80                         4.73   \n",
              "8                        4.83                 0                         4.67   \n",
              "9                        4.25               319                         4.81   \n",
              "10                       4.83               255                         4.96   \n",
              "11                       4.03               356                         4.76   \n",
              "16                        NaN                 0                          NaN   \n",
              "18                       4.00               315                         4.00   \n",
              "35                       4.22               173                         4.76   \n",
              "37                       4.76               144                         4.89   \n",
              "42                       4.72                87                         4.93   \n",
              "\n",
              "    number_of_reviews  \n",
              "0                 157  \n",
              "8                   6  \n",
              "9                  17  \n",
              "10                 26  \n",
              "11                 37  \n",
              "16                  0  \n",
              "18                  3  \n",
              "35                144  \n",
              "37                 20  \n",
              "42                104  "
            ],
            "text/html": [
              "\n",
              "  <div id=\"df-ac38851e-3fc9-4e9e-a77e-949ad726db08\">\n",
              "    <div class=\"colab-df-container\">\n",
              "      <div>\n",
              "<style scoped>\n",
              "    .dataframe tbody tr th:only-of-type {\n",
              "        vertical-align: middle;\n",
              "    }\n",
              "\n",
              "    .dataframe tbody tr th {\n",
              "        vertical-align: top;\n",
              "    }\n",
              "\n",
              "    .dataframe thead th {\n",
              "        text-align: right;\n",
              "    }\n",
              "</style>\n",
              "<table border=\"1\" class=\"dataframe\">\n",
              "  <thead>\n",
              "    <tr style=\"text-align: right;\">\n",
              "      <th></th>\n",
              "      <th>host_acceptance_rate</th>\n",
              "      <th>review_scores_rating</th>\n",
              "      <th>price</th>\n",
              "      <th>review_scores_cleanliness</th>\n",
              "      <th>availability_365</th>\n",
              "      <th>review_scores_communication</th>\n",
              "      <th>number_of_reviews</th>\n",
              "    </tr>\n",
              "  </thead>\n",
              "  <tbody>\n",
              "    <tr>\n",
              "      <th>0</th>\n",
              "      <td>100.0</td>\n",
              "      <td>4.41</td>\n",
              "      <td>60.0</td>\n",
              "      <td>4.30</td>\n",
              "      <td>80</td>\n",
              "      <td>4.73</td>\n",
              "      <td>157</td>\n",
              "    </tr>\n",
              "    <tr>\n",
              "      <th>8</th>\n",
              "      <td>NaN</td>\n",
              "      <td>5.00</td>\n",
              "      <td>33.0</td>\n",
              "      <td>4.83</td>\n",
              "      <td>0</td>\n",
              "      <td>4.67</td>\n",
              "      <td>6</td>\n",
              "    </tr>\n",
              "    <tr>\n",
              "      <th>9</th>\n",
              "      <td>18.0</td>\n",
              "      <td>4.50</td>\n",
              "      <td>50.0</td>\n",
              "      <td>4.25</td>\n",
              "      <td>319</td>\n",
              "      <td>4.81</td>\n",
              "      <td>17</td>\n",
              "    </tr>\n",
              "    <tr>\n",
              "      <th>10</th>\n",
              "      <td>78.0</td>\n",
              "      <td>4.92</td>\n",
              "      <td>32.0</td>\n",
              "      <td>4.83</td>\n",
              "      <td>255</td>\n",
              "      <td>4.96</td>\n",
              "      <td>26</td>\n",
              "    </tr>\n",
              "    <tr>\n",
              "      <th>11</th>\n",
              "      <td>98.0</td>\n",
              "      <td>4.53</td>\n",
              "      <td>66.0</td>\n",
              "      <td>4.03</td>\n",
              "      <td>356</td>\n",
              "      <td>4.76</td>\n",
              "      <td>37</td>\n",
              "    </tr>\n",
              "    <tr>\n",
              "      <th>16</th>\n",
              "      <td>NaN</td>\n",
              "      <td>NaN</td>\n",
              "      <td>150.0</td>\n",
              "      <td>NaN</td>\n",
              "      <td>0</td>\n",
              "      <td>NaN</td>\n",
              "      <td>0</td>\n",
              "    </tr>\n",
              "    <tr>\n",
              "      <th>18</th>\n",
              "      <td>NaN</td>\n",
              "      <td>4.00</td>\n",
              "      <td>150.0</td>\n",
              "      <td>4.00</td>\n",
              "      <td>315</td>\n",
              "      <td>4.00</td>\n",
              "      <td>3</td>\n",
              "    </tr>\n",
              "    <tr>\n",
              "      <th>35</th>\n",
              "      <td>83.0</td>\n",
              "      <td>4.48</td>\n",
              "      <td>22.0</td>\n",
              "      <td>4.22</td>\n",
              "      <td>173</td>\n",
              "      <td>4.76</td>\n",
              "      <td>144</td>\n",
              "    </tr>\n",
              "    <tr>\n",
              "      <th>37</th>\n",
              "      <td>0.0</td>\n",
              "      <td>4.95</td>\n",
              "      <td>27.0</td>\n",
              "      <td>4.76</td>\n",
              "      <td>144</td>\n",
              "      <td>4.89</td>\n",
              "      <td>20</td>\n",
              "    </tr>\n",
              "    <tr>\n",
              "      <th>42</th>\n",
              "      <td>90.0</td>\n",
              "      <td>4.75</td>\n",
              "      <td>42.0</td>\n",
              "      <td>4.72</td>\n",
              "      <td>87</td>\n",
              "      <td>4.93</td>\n",
              "      <td>104</td>\n",
              "    </tr>\n",
              "  </tbody>\n",
              "</table>\n",
              "</div>\n",
              "      <button class=\"colab-df-convert\" onclick=\"convertToInteractive('df-ac38851e-3fc9-4e9e-a77e-949ad726db08')\"\n",
              "              title=\"Convert this dataframe to an interactive table.\"\n",
              "              style=\"display:none;\">\n",
              "        \n",
              "  <svg xmlns=\"http://www.w3.org/2000/svg\" height=\"24px\"viewBox=\"0 0 24 24\"\n",
              "       width=\"24px\">\n",
              "    <path d=\"M0 0h24v24H0V0z\" fill=\"none\"/>\n",
              "    <path d=\"M18.56 5.44l.94 2.06.94-2.06 2.06-.94-2.06-.94-.94-2.06-.94 2.06-2.06.94zm-11 1L8.5 8.5l.94-2.06 2.06-.94-2.06-.94L8.5 2.5l-.94 2.06-2.06.94zm10 10l.94 2.06.94-2.06 2.06-.94-2.06-.94-.94-2.06-.94 2.06-2.06.94z\"/><path d=\"M17.41 7.96l-1.37-1.37c-.4-.4-.92-.59-1.43-.59-.52 0-1.04.2-1.43.59L10.3 9.45l-7.72 7.72c-.78.78-.78 2.05 0 2.83L4 21.41c.39.39.9.59 1.41.59.51 0 1.02-.2 1.41-.59l7.78-7.78 2.81-2.81c.8-.78.8-2.07 0-2.86zM5.41 20L4 18.59l7.72-7.72 1.47 1.35L5.41 20z\"/>\n",
              "  </svg>\n",
              "      </button>\n",
              "      \n",
              "  <style>\n",
              "    .colab-df-container {\n",
              "      display:flex;\n",
              "      flex-wrap:wrap;\n",
              "      gap: 12px;\n",
              "    }\n",
              "\n",
              "    .colab-df-convert {\n",
              "      background-color: #E8F0FE;\n",
              "      border: none;\n",
              "      border-radius: 50%;\n",
              "      cursor: pointer;\n",
              "      display: none;\n",
              "      fill: #1967D2;\n",
              "      height: 32px;\n",
              "      padding: 0 0 0 0;\n",
              "      width: 32px;\n",
              "    }\n",
              "\n",
              "    .colab-df-convert:hover {\n",
              "      background-color: #E2EBFA;\n",
              "      box-shadow: 0px 1px 2px rgba(60, 64, 67, 0.3), 0px 1px 3px 1px rgba(60, 64, 67, 0.15);\n",
              "      fill: #174EA6;\n",
              "    }\n",
              "\n",
              "    [theme=dark] .colab-df-convert {\n",
              "      background-color: #3B4455;\n",
              "      fill: #D2E3FC;\n",
              "    }\n",
              "\n",
              "    [theme=dark] .colab-df-convert:hover {\n",
              "      background-color: #434B5C;\n",
              "      box-shadow: 0px 1px 3px 1px rgba(0, 0, 0, 0.15);\n",
              "      filter: drop-shadow(0px 1px 2px rgba(0, 0, 0, 0.3));\n",
              "      fill: #FFFFFF;\n",
              "    }\n",
              "  </style>\n",
              "\n",
              "      <script>\n",
              "        const buttonEl =\n",
              "          document.querySelector('#df-ac38851e-3fc9-4e9e-a77e-949ad726db08 button.colab-df-convert');\n",
              "        buttonEl.style.display =\n",
              "          google.colab.kernel.accessAllowed ? 'block' : 'none';\n",
              "\n",
              "        async function convertToInteractive(key) {\n",
              "          const element = document.querySelector('#df-ac38851e-3fc9-4e9e-a77e-949ad726db08');\n",
              "          const dataTable =\n",
              "            await google.colab.kernel.invokeFunction('convertToInteractive',\n",
              "                                                     [key], {});\n",
              "          if (!dataTable) return;\n",
              "\n",
              "          const docLinkHtml = 'Like what you see? Visit the ' +\n",
              "            '<a target=\"_blank\" href=https://colab.research.google.com/notebooks/data_table.ipynb>data table notebook</a>'\n",
              "            + ' to learn more about interactive tables.';\n",
              "          element.innerHTML = '';\n",
              "          dataTable['output_type'] = 'display_data';\n",
              "          await google.colab.output.renderOutput(dataTable, element);\n",
              "          const docLink = document.createElement('div');\n",
              "          docLink.innerHTML = docLinkHtml;\n",
              "          element.appendChild(docLink);\n",
              "        }\n",
              "      </script>\n",
              "    </div>\n",
              "  </div>\n",
              "  "
            ]
          },
          "metadata": {},
          "execution_count": 248
        }
      ]
    },
    {
      "cell_type": "markdown",
      "source": [
        "**Contar nulos**"
      ],
      "metadata": {
        "id": "ljXSEEKMMZDV"
      }
    },
    {
      "cell_type": "code",
      "source": [
        "valores_nulos=PR.isnull().sum()\n",
        "print(valores_nulos)"
      ],
      "metadata": {
        "colab": {
          "base_uri": "https://localhost:8080/"
        },
        "id": "BsjMw4t9MWNa",
        "outputId": "004d28f8-bd0a-4498-e407-f416df6e1e16"
      },
      "execution_count": null,
      "outputs": [
        {
          "output_type": "stream",
          "name": "stdout",
          "text": [
            "host_acceptance_rate           1244\n",
            "review_scores_rating            650\n",
            "price                             0\n",
            "review_scores_cleanliness       715\n",
            "availability_365                  0\n",
            "review_scores_communication     716\n",
            "number_of_reviews                 0\n",
            "dtype: int64\n"
          ]
        }
      ]
    },
    {
      "cell_type": "markdown",
      "source": [
        "**Reemplazar valores**"
      ],
      "metadata": {
        "id": "l35IfM8RMhrm"
      }
    },
    {
      "cell_type": "code",
      "source": [
        "#remplazar valores\n",
        "from numpy import nan as NaN\n",
        "PR=PR.fillna({'host_acceptance_rate':float(PR['host_acceptance_rate'].mean())})\n",
        "PR=PR.fillna({'review_scores_rating':float(PR['review_scores_rating'].mean())})\n",
        "PR=PR.fillna({'review_scores_cleanliness':float(PR['review_scores_cleanliness'].mean())})\n",
        "PR=PR.fillna({'review_scores_communication':float(PR['review_scores_communication'].mean())})\n",
        "valores_nulos=PR.isnull().sum()\n",
        "print(valores_nulos)"
      ],
      "metadata": {
        "colab": {
          "base_uri": "https://localhost:8080/"
        },
        "id": "fo7qK3g5Mf1r",
        "outputId": "25e909f1-353e-44f8-8af7-b69b76a8880b"
      },
      "execution_count": null,
      "outputs": [
        {
          "output_type": "stream",
          "name": "stdout",
          "text": [
            "host_acceptance_rate           0\n",
            "review_scores_rating           0\n",
            "price                          0\n",
            "review_scores_cleanliness      0\n",
            "availability_365               0\n",
            "review_scores_communication    0\n",
            "number_of_reviews              0\n",
            "dtype: int64\n"
          ]
        }
      ]
    },
    {
      "cell_type": "markdown",
      "source": [
        "**OUTLIERS**"
      ],
      "metadata": {
        "id": "uXG8Ixm8My7L"
      }
    },
    {
      "cell_type": "code",
      "source": [
        "y=PR\n",
        "\n",
        "percentile25=y.quantile(0.25) #Q1\n",
        "percentile75=y.quantile(0.75) #Q3\n",
        "iqr= percentile75 - percentile25\n",
        "\n",
        "Limite_Superior_iqr= percentile75 + 1.5*iqr\n",
        "Limite_Inferior_iqr= percentile25 - 1.5*iqr\n",
        "print(\"Limite superior permitido\", Limite_Superior_iqr)\n",
        "print(\"Limite inferior permitido\", Limite_Inferior_iqr)"
      ],
      "metadata": {
        "colab": {
          "base_uri": "https://localhost:8080/"
        },
        "id": "DbwcdPupMxn0",
        "outputId": "e91de5d5-cd07-44a1-9de4-24ffa4028961"
      },
      "execution_count": null,
      "outputs": [
        {
          "output_type": "stream",
          "name": "stdout",
          "text": [
            "Limite superior permitido host_acceptance_rate           118.961076\n",
            "review_scores_rating             5.650935\n",
            "price                          160.500000\n",
            "review_scores_cleanliness        5.600000\n",
            "availability_365               635.000000\n",
            "review_scores_communication      5.328932\n",
            "number_of_reviews               31.000000\n",
            "dtype: float64\n",
            "Limite inferior permitido host_acceptance_rate            65.731540\n",
            "review_scores_rating             3.808441\n",
            "price                          -43.500000\n",
            "review_scores_cleanliness        3.840000\n",
            "availability_365              -381.000000\n",
            "review_scores_communication      4.451780\n",
            "number_of_reviews              -17.000000\n",
            "dtype: float64\n"
          ]
        }
      ]
    },
    {
      "cell_type": "code",
      "source": [
        "PR=PR[(y<=Limite_Superior_iqr)&(y>=Limite_Inferior_iqr)]"
      ],
      "metadata": {
        "id": "CsmTPrIcM33t"
      },
      "execution_count": null,
      "outputs": []
    },
    {
      "cell_type": "code",
      "source": [
        "valores_nulos=PR.isnull().sum()\n",
        "print(valores_nulos)"
      ],
      "metadata": {
        "colab": {
          "base_uri": "https://localhost:8080/"
        },
        "id": "M_QtI0AfM7PQ",
        "outputId": "58323a3d-5310-4bc7-feda-f1f38228fc87"
      },
      "execution_count": null,
      "outputs": [
        {
          "output_type": "stream",
          "name": "stdout",
          "text": [
            "host_acceptance_rate           254\n",
            "review_scores_rating           193\n",
            "price                          230\n",
            "review_scores_cleanliness      245\n",
            "availability_365                 0\n",
            "review_scores_communication    262\n",
            "number_of_reviews              406\n",
            "dtype: int64\n"
          ]
        }
      ]
    },
    {
      "cell_type": "markdown",
      "source": [
        "**Llenar con la media**"
      ],
      "metadata": {
        "id": "-BJcRb1GM__w"
      }
    },
    {
      "cell_type": "code",
      "source": [
        "PR=PR.fillna({'host_acceptance_rate':float(PR['host_acceptance_rate'].mean())})\n",
        "PR=PR.fillna({'review_scores_rating':float(PR['review_scores_rating'].mean())})\n",
        "PR=PR.fillna({'price':float(PR['price'].mean())})\n",
        "PR=PR.fillna({'review_scores_cleanliness':float(PR['review_scores_cleanliness'].mean())})\n",
        "PR=PR.fillna({'review_scores_communication':float(PR['review_scores_communication'].mean())})\n",
        "PR=PR.fillna({'number_of_reviews':float(PR['number_of_reviews'].mean())})"
      ],
      "metadata": {
        "id": "tcgbsHy0M_oP"
      },
      "execution_count": null,
      "outputs": []
    },
    {
      "cell_type": "code",
      "source": [
        "valores_nulos=PR.isnull().sum()\n",
        "print(valores_nulos)"
      ],
      "metadata": {
        "colab": {
          "base_uri": "https://localhost:8080/"
        },
        "id": "wYCe5kumNSx_",
        "outputId": "dad08956-c37a-43fd-b365-8a7be8e8575c"
      },
      "execution_count": null,
      "outputs": [
        {
          "output_type": "stream",
          "name": "stdout",
          "text": [
            "host_acceptance_rate           0\n",
            "review_scores_rating           0\n",
            "price                          0\n",
            "review_scores_cleanliness      0\n",
            "availability_365               0\n",
            "review_scores_communication    0\n",
            "number_of_reviews              0\n",
            "dtype: int64\n"
          ]
        }
      ]
    },
    {
      "cell_type": "markdown",
      "source": [
        "**correlaciones**"
      ],
      "metadata": {
        "id": "2HrSEwb5NY1r"
      }
    },
    {
      "cell_type": "code",
      "source": [
        "PR.corr()"
      ],
      "metadata": {
        "colab": {
          "base_uri": "https://localhost:8080/",
          "height": 313
        },
        "id": "GxH2uMZONWpy",
        "outputId": "52b1ebc6-3659-4e1f-df4d-1b33c92bdc22"
      },
      "execution_count": null,
      "outputs": [
        {
          "output_type": "execute_result",
          "data": {
            "text/plain": [
              "                             host_acceptance_rate  review_scores_rating  \\\n",
              "host_acceptance_rate                     1.000000             -0.079054   \n",
              "review_scores_rating                    -0.079054              1.000000   \n",
              "price                                    0.262577              0.013462   \n",
              "review_scores_cleanliness               -0.028606              0.562952   \n",
              "availability_365                         0.343340             -0.070494   \n",
              "review_scores_communication             -0.089185              0.497602   \n",
              "number_of_reviews                        0.169878              0.071857   \n",
              "\n",
              "                                price  review_scores_cleanliness  \\\n",
              "host_acceptance_rate         0.262577                  -0.028606   \n",
              "review_scores_rating         0.013462                   0.562952   \n",
              "price                        1.000000                   0.062054   \n",
              "review_scores_cleanliness    0.062054                   1.000000   \n",
              "availability_365             0.304670                  -0.017439   \n",
              "review_scores_communication -0.027776                   0.397645   \n",
              "number_of_reviews            0.068198                   0.039665   \n",
              "\n",
              "                             availability_365  review_scores_communication  \\\n",
              "host_acceptance_rate                 0.343340                    -0.089185   \n",
              "review_scores_rating                -0.070494                     0.497602   \n",
              "price                                0.304670                    -0.027776   \n",
              "review_scores_cleanliness           -0.017439                     0.397645   \n",
              "availability_365                     1.000000                    -0.062739   \n",
              "review_scores_communication         -0.062739                     1.000000   \n",
              "number_of_reviews                    0.101026                     0.030691   \n",
              "\n",
              "                             number_of_reviews  \n",
              "host_acceptance_rate                  0.169878  \n",
              "review_scores_rating                  0.071857  \n",
              "price                                 0.068198  \n",
              "review_scores_cleanliness             0.039665  \n",
              "availability_365                      0.101026  \n",
              "review_scores_communication           0.030691  \n",
              "number_of_reviews                     1.000000  "
            ],
            "text/html": [
              "\n",
              "  <div id=\"df-0c4a7297-6a64-41bb-a283-5f643492c3a5\">\n",
              "    <div class=\"colab-df-container\">\n",
              "      <div>\n",
              "<style scoped>\n",
              "    .dataframe tbody tr th:only-of-type {\n",
              "        vertical-align: middle;\n",
              "    }\n",
              "\n",
              "    .dataframe tbody tr th {\n",
              "        vertical-align: top;\n",
              "    }\n",
              "\n",
              "    .dataframe thead th {\n",
              "        text-align: right;\n",
              "    }\n",
              "</style>\n",
              "<table border=\"1\" class=\"dataframe\">\n",
              "  <thead>\n",
              "    <tr style=\"text-align: right;\">\n",
              "      <th></th>\n",
              "      <th>host_acceptance_rate</th>\n",
              "      <th>review_scores_rating</th>\n",
              "      <th>price</th>\n",
              "      <th>review_scores_cleanliness</th>\n",
              "      <th>availability_365</th>\n",
              "      <th>review_scores_communication</th>\n",
              "      <th>number_of_reviews</th>\n",
              "    </tr>\n",
              "  </thead>\n",
              "  <tbody>\n",
              "    <tr>\n",
              "      <th>host_acceptance_rate</th>\n",
              "      <td>1.000000</td>\n",
              "      <td>-0.079054</td>\n",
              "      <td>0.262577</td>\n",
              "      <td>-0.028606</td>\n",
              "      <td>0.343340</td>\n",
              "      <td>-0.089185</td>\n",
              "      <td>0.169878</td>\n",
              "    </tr>\n",
              "    <tr>\n",
              "      <th>review_scores_rating</th>\n",
              "      <td>-0.079054</td>\n",
              "      <td>1.000000</td>\n",
              "      <td>0.013462</td>\n",
              "      <td>0.562952</td>\n",
              "      <td>-0.070494</td>\n",
              "      <td>0.497602</td>\n",
              "      <td>0.071857</td>\n",
              "    </tr>\n",
              "    <tr>\n",
              "      <th>price</th>\n",
              "      <td>0.262577</td>\n",
              "      <td>0.013462</td>\n",
              "      <td>1.000000</td>\n",
              "      <td>0.062054</td>\n",
              "      <td>0.304670</td>\n",
              "      <td>-0.027776</td>\n",
              "      <td>0.068198</td>\n",
              "    </tr>\n",
              "    <tr>\n",
              "      <th>review_scores_cleanliness</th>\n",
              "      <td>-0.028606</td>\n",
              "      <td>0.562952</td>\n",
              "      <td>0.062054</td>\n",
              "      <td>1.000000</td>\n",
              "      <td>-0.017439</td>\n",
              "      <td>0.397645</td>\n",
              "      <td>0.039665</td>\n",
              "    </tr>\n",
              "    <tr>\n",
              "      <th>availability_365</th>\n",
              "      <td>0.343340</td>\n",
              "      <td>-0.070494</td>\n",
              "      <td>0.304670</td>\n",
              "      <td>-0.017439</td>\n",
              "      <td>1.000000</td>\n",
              "      <td>-0.062739</td>\n",
              "      <td>0.101026</td>\n",
              "    </tr>\n",
              "    <tr>\n",
              "      <th>review_scores_communication</th>\n",
              "      <td>-0.089185</td>\n",
              "      <td>0.497602</td>\n",
              "      <td>-0.027776</td>\n",
              "      <td>0.397645</td>\n",
              "      <td>-0.062739</td>\n",
              "      <td>1.000000</td>\n",
              "      <td>0.030691</td>\n",
              "    </tr>\n",
              "    <tr>\n",
              "      <th>number_of_reviews</th>\n",
              "      <td>0.169878</td>\n",
              "      <td>0.071857</td>\n",
              "      <td>0.068198</td>\n",
              "      <td>0.039665</td>\n",
              "      <td>0.101026</td>\n",
              "      <td>0.030691</td>\n",
              "      <td>1.000000</td>\n",
              "    </tr>\n",
              "  </tbody>\n",
              "</table>\n",
              "</div>\n",
              "      <button class=\"colab-df-convert\" onclick=\"convertToInteractive('df-0c4a7297-6a64-41bb-a283-5f643492c3a5')\"\n",
              "              title=\"Convert this dataframe to an interactive table.\"\n",
              "              style=\"display:none;\">\n",
              "        \n",
              "  <svg xmlns=\"http://www.w3.org/2000/svg\" height=\"24px\"viewBox=\"0 0 24 24\"\n",
              "       width=\"24px\">\n",
              "    <path d=\"M0 0h24v24H0V0z\" fill=\"none\"/>\n",
              "    <path d=\"M18.56 5.44l.94 2.06.94-2.06 2.06-.94-2.06-.94-.94-2.06-.94 2.06-2.06.94zm-11 1L8.5 8.5l.94-2.06 2.06-.94-2.06-.94L8.5 2.5l-.94 2.06-2.06.94zm10 10l.94 2.06.94-2.06 2.06-.94-2.06-.94-.94-2.06-.94 2.06-2.06.94z\"/><path d=\"M17.41 7.96l-1.37-1.37c-.4-.4-.92-.59-1.43-.59-.52 0-1.04.2-1.43.59L10.3 9.45l-7.72 7.72c-.78.78-.78 2.05 0 2.83L4 21.41c.39.39.9.59 1.41.59.51 0 1.02-.2 1.41-.59l7.78-7.78 2.81-2.81c.8-.78.8-2.07 0-2.86zM5.41 20L4 18.59l7.72-7.72 1.47 1.35L5.41 20z\"/>\n",
              "  </svg>\n",
              "      </button>\n",
              "      \n",
              "  <style>\n",
              "    .colab-df-container {\n",
              "      display:flex;\n",
              "      flex-wrap:wrap;\n",
              "      gap: 12px;\n",
              "    }\n",
              "\n",
              "    .colab-df-convert {\n",
              "      background-color: #E8F0FE;\n",
              "      border: none;\n",
              "      border-radius: 50%;\n",
              "      cursor: pointer;\n",
              "      display: none;\n",
              "      fill: #1967D2;\n",
              "      height: 32px;\n",
              "      padding: 0 0 0 0;\n",
              "      width: 32px;\n",
              "    }\n",
              "\n",
              "    .colab-df-convert:hover {\n",
              "      background-color: #E2EBFA;\n",
              "      box-shadow: 0px 1px 2px rgba(60, 64, 67, 0.3), 0px 1px 3px 1px rgba(60, 64, 67, 0.15);\n",
              "      fill: #174EA6;\n",
              "    }\n",
              "\n",
              "    [theme=dark] .colab-df-convert {\n",
              "      background-color: #3B4455;\n",
              "      fill: #D2E3FC;\n",
              "    }\n",
              "\n",
              "    [theme=dark] .colab-df-convert:hover {\n",
              "      background-color: #434B5C;\n",
              "      box-shadow: 0px 1px 3px 1px rgba(0, 0, 0, 0.15);\n",
              "      filter: drop-shadow(0px 1px 2px rgba(0, 0, 0, 0.3));\n",
              "      fill: #FFFFFF;\n",
              "    }\n",
              "  </style>\n",
              "\n",
              "      <script>\n",
              "        const buttonEl =\n",
              "          document.querySelector('#df-0c4a7297-6a64-41bb-a283-5f643492c3a5 button.colab-df-convert');\n",
              "        buttonEl.style.display =\n",
              "          google.colab.kernel.accessAllowed ? 'block' : 'none';\n",
              "\n",
              "        async function convertToInteractive(key) {\n",
              "          const element = document.querySelector('#df-0c4a7297-6a64-41bb-a283-5f643492c3a5');\n",
              "          const dataTable =\n",
              "            await google.colab.kernel.invokeFunction('convertToInteractive',\n",
              "                                                     [key], {});\n",
              "          if (!dataTable) return;\n",
              "\n",
              "          const docLinkHtml = 'Like what you see? Visit the ' +\n",
              "            '<a target=\"_blank\" href=https://colab.research.google.com/notebooks/data_table.ipynb>data table notebook</a>'\n",
              "            + ' to learn more about interactive tables.';\n",
              "          element.innerHTML = '';\n",
              "          dataTable['output_type'] = 'display_data';\n",
              "          await google.colab.output.renderOutput(dataTable, element);\n",
              "          const docLink = document.createElement('div');\n",
              "          docLink.innerHTML = docLinkHtml;\n",
              "          element.appendChild(docLink);\n",
              "        }\n",
              "      </script>\n",
              "    </div>\n",
              "  </div>\n",
              "  "
            ]
          },
          "metadata": {},
          "execution_count": 256
        }
      ]
    },
    {
      "cell_type": "code",
      "source": [
        "column_sels=['host_acceptance_rate','review_scores_rating', 'price', 'review_scores_cleanliness', 'availability_365','review_scores_communication']\n",
        "x=PR.loc[:,column_sels]#variables explicativas\n",
        "\n",
        "y=PR['number_of_reviews']#target, variable dependiente\n",
        "\n",
        "fig, axs=plt.subplots(ncols=3,nrows=2,figsize=(16,8))\n",
        "\n",
        "#index=0\n",
        "\n",
        "axs=axs.flatten()\n",
        "for i, k in enumerate(column_sels):\n",
        "  sns.regplot(x=x[k],y=y,data=PR,ax=axs[i])\n",
        "  plt.tight_layout(pad=0.4)"
      ],
      "metadata": {
        "colab": {
          "base_uri": "https://localhost:8080/",
          "height": 599
        },
        "id": "M1TFDSUJNmzH",
        "outputId": "e9bd751a-7ab6-4530-bf46-e3d3d70efeb5"
      },
      "execution_count": null,
      "outputs": [
        {
          "output_type": "display_data",
          "data": {
            "text/plain": [
              "<Figure size 1152x576 with 6 Axes>"
            ],
            "image/png": "[encoded data removed]"
          },
          "metadata": {
            "needs_background": "light"
          }
        }
      ]
    },
    {
      "cell_type": "code",
      "source": [
        "corr=PR.corrwith(PR['number_of_reviews'])\n",
        "corr"
      ],
      "metadata": {
        "colab": {
          "base_uri": "https://localhost:8080/"
        },
        "id": "NkPVD5FfNyFS",
        "outputId": "f24297c4-931e-4940-b9fa-966e1c1dd917"
      },
      "execution_count": null,
      "outputs": [
        {
          "output_type": "execute_result",
          "data": {
            "text/plain": [
              "host_acceptance_rate           0.169878\n",
              "review_scores_rating           0.071857\n",
              "price                          0.068198\n",
              "review_scores_cleanliness      0.039665\n",
              "availability_365               0.101026\n",
              "review_scores_communication    0.030691\n",
              "number_of_reviews              1.000000\n",
              "dtype: float64"
            ]
          },
          "metadata": {},
          "execution_count": 258
        }
      ]
    },
    {
      "cell_type": "code",
      "source": [
        "#COEFICIENTE DE DETERMINACIÓN R^2\n",
        "coef_deter=pow(corr,2)\n",
        "coef_deter"
      ],
      "metadata": {
        "colab": {
          "base_uri": "https://localhost:8080/"
        },
        "id": "RMEPftcDN1S5",
        "outputId": "fc3c5003-a6a2-4c5c-a878-58e9b1bb77bc"
      },
      "execution_count": null,
      "outputs": [
        {
          "output_type": "execute_result",
          "data": {
            "text/plain": [
              "host_acceptance_rate           0.028858\n",
              "review_scores_rating           0.005163\n",
              "price                          0.004651\n",
              "review_scores_cleanliness      0.001573\n",
              "availability_365               0.010206\n",
              "review_scores_communication    0.000942\n",
              "number_of_reviews              1.000000\n",
              "dtype: float64"
            ]
          },
          "metadata": {},
          "execution_count": 259
        }
      ]
    },
    {
      "cell_type": "markdown",
      "source": [
        "**Selección de mejor modelo de Regresión Lineal Mult. considerando el coeficiente de correlación**\n",
        "\n",
        "---\n",
        "\n",
        "Habitación privada\n",
        "\n"
      ],
      "metadata": {
        "id": "Av6QLqUlN-YJ"
      }
    },
    {
      "cell_type": "code",
      "source": [
        "sns.scatterplot(x='host_acceptance_rate', y='number_of_reviews', color=\"blue\", data=PR)\n",
        "sns.scatterplot(x='availability_365', y='number_of_reviews', color=\"green\", data=PR)\n",
        "sns.scatterplot(x='review_scores_rating', y='number_of_reviews', color=\"lightblue\", data=PR)\n",
        "sns.scatterplot(x='price', y='number_of_reviews', color=\"magenta\", data=PR)"
      ],
      "metadata": {
        "colab": {
          "base_uri": "https://localhost:8080/",
          "height": 297
        },
        "id": "kYAkOHGaN942",
        "outputId": "c5e10137-a91d-43ae-8eae-291fa81caeb6"
      },
      "execution_count": null,
      "outputs": [
        {
          "output_type": "execute_result",
          "data": {
            "text/plain": [
              "<matplotlib.axes._subplots.AxesSubplot at 0x7f5de5c947d0>"
            ]
          },
          "metadata": {},
          "execution_count": 260
        },
        {
          "output_type": "display_data",
          "data": {
            "text/plain": [
              "<Figure size 432x288 with 1 Axes>"
            ],
            "image/png": "[encoded data removed]"
          },
          "metadata": {
            "needs_background": "light"
          }
        }
      ]
    },
    {
      "cell_type": "code",
      "source": [
        "#Declaramos las variables dependientes e independientes para la regresión lineal\n",
        "Vars_Indep=PR[['host_acceptance_rate','review_scores_rating','availability_365']]\n",
        "Var_Dep= PR['number_of_reviews']"
      ],
      "metadata": {
        "id": "x8-GCX4uPGJe"
      },
      "execution_count": null,
      "outputs": []
    },
    {
      "cell_type": "code",
      "source": [
        "from sklearn.linear_model import LinearRegression\n",
        "model= LinearRegression()\n",
        "type(model)\n",
        "#Ajustamos el modelo con las variables antes declaradas\n",
        "model.fit(X=Vars_Indep, y=Var_Dep)"
      ],
      "metadata": {
        "colab": {
          "base_uri": "https://localhost:8080/"
        },
        "id": "gPyoo6ygPahm",
        "outputId": "3e9e2ccd-c6ba-4444-ba94-c47c6298ab80"
      },
      "execution_count": null,
      "outputs": [
        {
          "output_type": "execute_result",
          "data": {
            "text/plain": [
              "LinearRegression()"
            ]
          },
          "metadata": {},
          "execution_count": 262
        }
      ]
    },
    {
      "cell_type": "code",
      "source": [
        "#obtener coeficientes para el modelo ajustado\n",
        "model.__dict__"
      ],
      "metadata": {
        "colab": {
          "base_uri": "https://localhost:8080/"
        },
        "id": "ug8eVoxpPjg6",
        "outputId": "b0da065f-65c4-4168-a7d3-98df5bd16a83"
      },
      "execution_count": null,
      "outputs": [
        {
          "output_type": "execute_result",
          "data": {
            "text/plain": [
              "{'fit_intercept': True,\n",
              " 'normalize': 'deprecated',\n",
              " 'copy_X': True,\n",
              " 'n_jobs': None,\n",
              " 'positive': False,\n",
              " 'feature_names_in_': array(['host_acceptance_rate', 'review_scores_rating', 'availability_365'],\n",
              "       dtype=object),\n",
              " 'n_features_in_': 3,\n",
              " 'coef_': array([0.14142549, 2.06505076, 0.00248919]),\n",
              " '_residues': 122859.95297792956,\n",
              " 'rank_': 3,\n",
              " 'singular_': array([7575.23467723,  376.79229258,   15.19115622]),\n",
              " 'intercept_': -17.296056236061737}"
            ]
          },
          "metadata": {},
          "execution_count": 263
        }
      ]
    },
    {
      "cell_type": "markdown",
      "source": [
        "Ecuación\n",
        "\n",
        "---\n",
        "Y=0.13971358(host_acceptance_rate)+ 2.05387616(review_scores_rating)+0.00248(availability_365)-17.296\n"
      ],
      "metadata": {
        "id": "CgltmajWT9nE"
      }
    },
    {
      "cell_type": "markdown",
      "source": [
        "**Crear el modelo matemático que describa de mejor manera el número de reseñas**"
      ],
      "metadata": {
        "id": "cllwjd1ER6oz"
      }
    },
    {
      "cell_type": "code",
      "source": [
        "y_pred= model.predict(X=PR[['host_acceptance_rate','review_scores_rating','availability_365']])\n",
        "y_pred"
      ],
      "metadata": {
        "colab": {
          "base_uri": "https://localhost:8080/"
        },
        "id": "qBTZ4v9RSER6",
        "outputId": "9bb12eb5-ed8e-492a-ee65-267e71fcc78f"
      },
      "execution_count": null,
      "outputs": [
        {
          "output_type": "execute_result",
          "data": {
            "text/plain": [
              "array([6.15250162, 5.14831768, 5.63494879, ..., 6.88220061, 7.06158276,\n",
              "       4.31115031])"
            ]
          },
          "metadata": {},
          "execution_count": 264
        }
      ]
    },
    {
      "cell_type": "code",
      "source": [
        "#Coeficiente de Determinación del modelo\n",
        "coef_Deter=model.score(X=Vars_Indep, y=Var_Dep)\n",
        "coef_Deter"
      ],
      "metadata": {
        "colab": {
          "base_uri": "https://localhost:8080/"
        },
        "id": "Zq-OAhdXT3PY",
        "outputId": "01e76614-076c-4388-854e-c5c0a8707277"
      },
      "execution_count": null,
      "outputs": [
        {
          "output_type": "execute_result",
          "data": {
            "text/plain": [
              "0.03862605471819569"
            ]
          },
          "metadata": {},
          "execution_count": 265
        }
      ]
    },
    {
      "cell_type": "code",
      "source": [
        "coef_Correl=np.sqrt(coef_Deter)\n",
        "coef_Correl"
      ],
      "metadata": {
        "colab": {
          "base_uri": "https://localhost:8080/"
        },
        "id": "qUiAK_4fUiei",
        "outputId": "ef8a089a-d1a8-41f1-bbb9-824941b55bf6"
      },
      "execution_count": null,
      "outputs": [
        {
          "output_type": "execute_result",
          "data": {
            "text/plain": [
              "0.19653512337034235"
            ]
          },
          "metadata": {},
          "execution_count": 266
        }
      ]
    },
    {
      "cell_type": "markdown",
      "source": [
        "##**2.Tipo de habitación: Entire Home/Apt**"
      ],
      "metadata": {
        "id": "S3oYI5PdV1gA"
      }
    },
    {
      "cell_type": "code",
      "source": [
        "FP=FP[['host_acceptance_rate','review_scores_rating', 'price', 'review_scores_cleanliness', 'availability_365','review_scores_communication','number_of_reviews']]"
      ],
      "metadata": {
        "id": "G3UZRYgZV-Yh"
      },
      "execution_count": null,
      "outputs": []
    },
    {
      "cell_type": "code",
      "source": [
        "FP.head(10)"
      ],
      "metadata": {
        "colab": {
          "base_uri": "https://localhost:8080/",
          "height": 363
        },
        "id": "969ljVTKaoI0",
        "outputId": "266215ae-e6c8-47c3-a629-5f0609881aa3"
      },
      "execution_count": null,
      "outputs": [
        {
          "output_type": "execute_result",
          "data": {
            "text/plain": [
              "    host_acceptance_rate  review_scores_rating  price  \\\n",
              "1                   97.0                  4.68  152.0   \n",
              "2                    NaN                  4.87  180.0   \n",
              "3                   97.0                  4.68  286.0   \n",
              "4                    0.0                  4.67   64.0   \n",
              "5                   64.0                  4.86  160.0   \n",
              "6                   63.0                  4.79   45.0   \n",
              "7                   67.0                  4.89  160.0   \n",
              "12                   NaN                  5.00  220.0   \n",
              "13                 100.0                  4.94  110.0   \n",
              "14                  33.0                  5.00  100.0   \n",
              "\n",
              "    review_scores_cleanliness  availability_365  review_scores_communication  \\\n",
              "1                        4.65               306                         4.78   \n",
              "2                        4.92               104                         5.00   \n",
              "3                        4.64               250                         4.79   \n",
              "4                        4.95                74                         4.91   \n",
              "5                        5.00               117                         5.00   \n",
              "6                        4.94                90                         4.94   \n",
              "7                        4.84               323                         4.89   \n",
              "12                       4.92               364                         4.92   \n",
              "13                       4.92                57                         4.97   \n",
              "14                       4.83               121                         5.00   \n",
              "\n",
              "    number_of_reviews  \n",
              "1                 385  \n",
              "2                  52  \n",
              "3                 108  \n",
              "4                  22  \n",
              "5                   8  \n",
              "6                  63  \n",
              "7                  45  \n",
              "12                 15  \n",
              "13                190  \n",
              "14                  6  "
            ],
            "text/html": [
              "\n",
              "  <div id=\"df-caf5b69e-dddf-41d9-8dac-7765a854357c\">\n",
              "    <div class=\"colab-df-container\">\n",
              "      <div>\n",
              "<style scoped>\n",
              "    .dataframe tbody tr th:only-of-type {\n",
              "        vertical-align: middle;\n",
              "    }\n",
              "\n",
              "    .dataframe tbody tr th {\n",
              "        vertical-align: top;\n",
              "    }\n",
              "\n",
              "    .dataframe thead th {\n",
              "        text-align: right;\n",
              "    }\n",
              "</style>\n",
              "<table border=\"1\" class=\"dataframe\">\n",
              "  <thead>\n",
              "    <tr style=\"text-align: right;\">\n",
              "      <th></th>\n",
              "      <th>host_acceptance_rate</th>\n",
              "      <th>review_scores_rating</th>\n",
              "      <th>price</th>\n",
              "      <th>review_scores_cleanliness</th>\n",
              "      <th>availability_365</th>\n",
              "      <th>review_scores_communication</th>\n",
              "      <th>number_of_reviews</th>\n",
              "    </tr>\n",
              "  </thead>\n",
              "  <tbody>\n",
              "    <tr>\n",
              "      <th>1</th>\n",
              "      <td>97.0</td>\n",
              "      <td>4.68</td>\n",
              "      <td>152.0</td>\n",
              "      <td>4.65</td>\n",
              "      <td>306</td>\n",
              "      <td>4.78</td>\n",
              "      <td>385</td>\n",
              "    </tr>\n",
              "    <tr>\n",
              "      <th>2</th>\n",
              "      <td>NaN</td>\n",
              "      <td>4.87</td>\n",
              "      <td>180.0</td>\n",
              "      <td>4.92</td>\n",
              "      <td>104</td>\n",
              "      <td>5.00</td>\n",
              "      <td>52</td>\n",
              "    </tr>\n",
              "    <tr>\n",
              "      <th>3</th>\n",
              "      <td>97.0</td>\n",
              "      <td>4.68</td>\n",
              "      <td>286.0</td>\n",
              "      <td>4.64</td>\n",
              "      <td>250</td>\n",
              "      <td>4.79</td>\n",
              "      <td>108</td>\n",
              "    </tr>\n",
              "    <tr>\n",
              "      <th>4</th>\n",
              "      <td>0.0</td>\n",
              "      <td>4.67</td>\n",
              "      <td>64.0</td>\n",
              "      <td>4.95</td>\n",
              "      <td>74</td>\n",
              "      <td>4.91</td>\n",
              "      <td>22</td>\n",
              "    </tr>\n",
              "    <tr>\n",
              "      <th>5</th>\n",
              "      <td>64.0</td>\n",
              "      <td>4.86</td>\n",
              "      <td>160.0</td>\n",
              "      <td>5.00</td>\n",
              "      <td>117</td>\n",
              "      <td>5.00</td>\n",
              "      <td>8</td>\n",
              "    </tr>\n",
              "    <tr>\n",
              "      <th>6</th>\n",
              "      <td>63.0</td>\n",
              "      <td>4.79</td>\n",
              "      <td>45.0</td>\n",
              "      <td>4.94</td>\n",
              "      <td>90</td>\n",
              "      <td>4.94</td>\n",
              "      <td>63</td>\n",
              "    </tr>\n",
              "    <tr>\n",
              "      <th>7</th>\n",
              "      <td>67.0</td>\n",
              "      <td>4.89</td>\n",
              "      <td>160.0</td>\n",
              "      <td>4.84</td>\n",
              "      <td>323</td>\n",
              "      <td>4.89</td>\n",
              "      <td>45</td>\n",
              "    </tr>\n",
              "    <tr>\n",
              "      <th>12</th>\n",
              "      <td>NaN</td>\n",
              "      <td>5.00</td>\n",
              "      <td>220.0</td>\n",
              "      <td>4.92</td>\n",
              "      <td>364</td>\n",
              "      <td>4.92</td>\n",
              "      <td>15</td>\n",
              "    </tr>\n",
              "    <tr>\n",
              "      <th>13</th>\n",
              "      <td>100.0</td>\n",
              "      <td>4.94</td>\n",
              "      <td>110.0</td>\n",
              "      <td>4.92</td>\n",
              "      <td>57</td>\n",
              "      <td>4.97</td>\n",
              "      <td>190</td>\n",
              "    </tr>\n",
              "    <tr>\n",
              "      <th>14</th>\n",
              "      <td>33.0</td>\n",
              "      <td>5.00</td>\n",
              "      <td>100.0</td>\n",
              "      <td>4.83</td>\n",
              "      <td>121</td>\n",
              "      <td>5.00</td>\n",
              "      <td>6</td>\n",
              "    </tr>\n",
              "  </tbody>\n",
              "</table>\n",
              "</div>\n",
              "      <button class=\"colab-df-convert\" onclick=\"convertToInteractive('df-caf5b69e-dddf-41d9-8dac-7765a854357c')\"\n",
              "              title=\"Convert this dataframe to an interactive table.\"\n",
              "              style=\"display:none;\">\n",
              "        \n",
              "  <svg xmlns=\"http://www.w3.org/2000/svg\" height=\"24px\"viewBox=\"0 0 24 24\"\n",
              "       width=\"24px\">\n",
              "    <path d=\"M0 0h24v24H0V0z\" fill=\"none\"/>\n",
              "    <path d=\"M18.56 5.44l.94 2.06.94-2.06 2.06-.94-2.06-.94-.94-2.06-.94 2.06-2.06.94zm-11 1L8.5 8.5l.94-2.06 2.06-.94-2.06-.94L8.5 2.5l-.94 2.06-2.06.94zm10 10l.94 2.06.94-2.06 2.06-.94-2.06-.94-.94-2.06-.94 2.06-2.06.94z\"/><path d=\"M17.41 7.96l-1.37-1.37c-.4-.4-.92-.59-1.43-.59-.52 0-1.04.2-1.43.59L10.3 9.45l-7.72 7.72c-.78.78-.78 2.05 0 2.83L4 21.41c.39.39.9.59 1.41.59.51 0 1.02-.2 1.41-.59l7.78-7.78 2.81-2.81c.8-.78.8-2.07 0-2.86zM5.41 20L4 18.59l7.72-7.72 1.47 1.35L5.41 20z\"/>\n",
              "  </svg>\n",
              "      </button>\n",
              "      \n",
              "  <style>\n",
              "    .colab-df-container {\n",
              "      display:flex;\n",
              "      flex-wrap:wrap;\n",
              "      gap: 12px;\n",
              "    }\n",
              "\n",
              "    .colab-df-convert {\n",
              "      background-color: #E8F0FE;\n",
              "      border: none;\n",
              "      border-radius: 50%;\n",
              "      cursor: pointer;\n",
              "      display: none;\n",
              "      fill: #1967D2;\n",
              "      height: 32px;\n",
              "      padding: 0 0 0 0;\n",
              "      width: 32px;\n",
              "    }\n",
              "\n",
              "    .colab-df-convert:hover {\n",
              "      background-color: #E2EBFA;\n",
              "      box-shadow: 0px 1px 2px rgba(60, 64, 67, 0.3), 0px 1px 3px 1px rgba(60, 64, 67, 0.15);\n",
              "      fill: #174EA6;\n",
              "    }\n",
              "\n",
              "    [theme=dark] .colab-df-convert {\n",
              "      background-color: #3B4455;\n",
              "      fill: #D2E3FC;\n",
              "    }\n",
              "\n",
              "    [theme=dark] .colab-df-convert:hover {\n",
              "      background-color: #434B5C;\n",
              "      box-shadow: 0px 1px 3px 1px rgba(0, 0, 0, 0.15);\n",
              "      filter: drop-shadow(0px 1px 2px rgba(0, 0, 0, 0.3));\n",
              "      fill: #FFFFFF;\n",
              "    }\n",
              "  </style>\n",
              "\n",
              "      <script>\n",
              "        const buttonEl =\n",
              "          document.querySelector('#df-caf5b69e-dddf-41d9-8dac-7765a854357c button.colab-df-convert');\n",
              "        buttonEl.style.display =\n",
              "          google.colab.kernel.accessAllowed ? 'block' : 'none';\n",
              "\n",
              "        async function convertToInteractive(key) {\n",
              "          const element = document.querySelector('#df-caf5b69e-dddf-41d9-8dac-7765a854357c');\n",
              "          const dataTable =\n",
              "            await google.colab.kernel.invokeFunction('convertToInteractive',\n",
              "                                                     [key], {});\n",
              "          if (!dataTable) return;\n",
              "\n",
              "          const docLinkHtml = 'Like what you see? Visit the ' +\n",
              "            '<a target=\"_blank\" href=https://colab.research.google.com/notebooks/data_table.ipynb>data table notebook</a>'\n",
              "            + ' to learn more about interactive tables.';\n",
              "          element.innerHTML = '';\n",
              "          dataTable['output_type'] = 'display_data';\n",
              "          await google.colab.output.renderOutput(dataTable, element);\n",
              "          const docLink = document.createElement('div');\n",
              "          docLink.innerHTML = docLinkHtml;\n",
              "          element.appendChild(docLink);\n",
              "        }\n",
              "      </script>\n",
              "    </div>\n",
              "  </div>\n",
              "  "
            ]
          },
          "metadata": {},
          "execution_count": 268
        }
      ]
    },
    {
      "cell_type": "markdown",
      "source": [
        "**Contar nulos**"
      ],
      "metadata": {
        "id": "CZeEERLjawog"
      }
    },
    {
      "cell_type": "code",
      "source": [
        "valores_nulos=FP.isnull().sum()\n",
        "print(valores_nulos)"
      ],
      "metadata": {
        "colab": {
          "base_uri": "https://localhost:8080/"
        },
        "id": "tl45A2MVaqXW",
        "outputId": "c77ea7ed-f774-401e-e372-0a309f8ee190"
      },
      "execution_count": null,
      "outputs": [
        {
          "output_type": "stream",
          "name": "stdout",
          "text": [
            "host_acceptance_rate           2653\n",
            "review_scores_rating           1897\n",
            "price                             0\n",
            "review_scores_cleanliness      2022\n",
            "availability_365                  0\n",
            "review_scores_communication    2022\n",
            "number_of_reviews                 0\n",
            "dtype: int64\n"
          ]
        }
      ]
    },
    {
      "cell_type": "markdown",
      "source": [
        "**Reemplazar valores**"
      ],
      "metadata": {
        "id": "LtbHoD4AbFDB"
      }
    },
    {
      "cell_type": "code",
      "source": [
        "#remplazar valores\n",
        "from numpy import nan as NaN\n",
        "FP=FP.fillna({'host_acceptance_rate':float(FP['host_acceptance_rate'].mean())})\n",
        "FP=FP.fillna({'review_scores_rating':float(FP['review_scores_rating'].mean())})\n",
        "FP=FP.fillna({'review_scores_cleanliness':float(FP['review_scores_cleanliness'].mean())})\n",
        "FP=FP.fillna({'review_scores_communication':float(FP['review_scores_communication'].mean())})\n",
        "valores_nulos=FP.isnull().sum()\n",
        "print(valores_nulos)"
      ],
      "metadata": {
        "colab": {
          "base_uri": "https://localhost:8080/"
        },
        "id": "po3XnKeyaz8k",
        "outputId": "369cadaa-e33f-4a39-d73a-86611e771fef"
      },
      "execution_count": null,
      "outputs": [
        {
          "output_type": "stream",
          "name": "stdout",
          "text": [
            "host_acceptance_rate           0\n",
            "review_scores_rating           0\n",
            "price                          0\n",
            "review_scores_cleanliness      0\n",
            "availability_365               0\n",
            "review_scores_communication    0\n",
            "number_of_reviews              0\n",
            "dtype: int64\n"
          ]
        }
      ]
    },
    {
      "cell_type": "markdown",
      "source": [
        "**Outliers**"
      ],
      "metadata": {
        "id": "Fq52P1qDbID1"
      }
    },
    {
      "cell_type": "code",
      "source": [
        "y=FP\n",
        "\n",
        "percentile25=y.quantile(0.25) #Q1\n",
        "percentile75=y.quantile(0.75) #Q3\n",
        "iqr= percentile75 - percentile25\n",
        "\n",
        "Limite_Superior_iqr= percentile75 + 1.5*iqr\n",
        "Limite_Inferior_iqr= percentile25 - 1.5*iqr\n",
        "print(\"Limite superior permitido\", Limite_Superior_iqr)\n",
        "print(\"Limite inferior permitido\", Limite_Inferior_iqr)"
      ],
      "metadata": {
        "colab": {
          "base_uri": "https://localhost:8080/"
        },
        "id": "1GQ6gQuXbDGZ",
        "outputId": "8ea82f41-40a8-4bd7-9407-76890bc671dd"
      },
      "execution_count": null,
      "outputs": [
        {
          "output_type": "stream",
          "name": "stdout",
          "text": [
            "Limite superior permitido host_acceptance_rate           118.687103\n",
            "review_scores_rating             5.420291\n",
            "price                          363.000000\n",
            "review_scores_cleanliness        5.450000\n",
            "availability_365               652.500000\n",
            "review_scores_communication      5.295619\n",
            "number_of_reviews               66.000000\n",
            "dtype: float64\n",
            "Limite inferior permitido host_acceptance_rate            68.854828\n",
            "review_scores_rating             4.112848\n",
            "price                          -85.000000\n",
            "review_scores_cleanliness        4.090000\n",
            "availability_365              -391.500000\n",
            "review_scores_communication      4.507302\n",
            "number_of_reviews              -38.000000\n",
            "dtype: float64\n"
          ]
        }
      ]
    },
    {
      "cell_type": "code",
      "source": [
        "FP=FP[(y<=Limite_Superior_iqr)&(y>=Limite_Inferior_iqr)]"
      ],
      "metadata": {
        "id": "Y-EXgQnqbn-9"
      },
      "execution_count": null,
      "outputs": []
    },
    {
      "cell_type": "code",
      "source": [
        "valores_nulos=FP.isnull().sum()\n",
        "print(valores_nulos)"
      ],
      "metadata": {
        "colab": {
          "base_uri": "https://localhost:8080/"
        },
        "id": "U9dLgkPzboQZ",
        "outputId": "9272f69e-f77f-4895-cc87-5e9618977087"
      },
      "execution_count": null,
      "outputs": [
        {
          "output_type": "stream",
          "name": "stdout",
          "text": [
            "host_acceptance_rate           1076\n",
            "review_scores_rating            850\n",
            "price                           794\n",
            "review_scores_cleanliness       955\n",
            "availability_365                  0\n",
            "review_scores_communication     945\n",
            "number_of_reviews              1177\n",
            "dtype: int64\n"
          ]
        }
      ]
    },
    {
      "cell_type": "code",
      "source": [
        "FP=FP.fillna({'host_acceptance_rate':float(FP['host_acceptance_rate'].mean())})\n",
        "FP=FP.fillna({'review_scores_rating':float(FP['review_scores_rating'].mean())})\n",
        "FP=FP.fillna({'price':float(FP['price'].mean())})\n",
        "\n",
        "FP=FP.fillna({'review_scores_cleanliness':float(FP['review_scores_cleanliness'].mean())})\n",
        "FP=FP.fillna({'review_scores_communication':float(FP['review_scores_communication'].mean())})\n",
        "FP=FP.fillna({'number_of_reviews':(FP['number_of_reviews'].mean())})\n",
        "\n",
        "valores_nulos=FP.isnull().sum()\n",
        "print(valores_nulos)"
      ],
      "metadata": {
        "colab": {
          "base_uri": "https://localhost:8080/"
        },
        "id": "ZuhwrcKTbwau",
        "outputId": "403eb603-de1d-4ac8-cbc8-fe283e56b100"
      },
      "execution_count": null,
      "outputs": [
        {
          "output_type": "stream",
          "name": "stdout",
          "text": [
            "host_acceptance_rate           0\n",
            "review_scores_rating           0\n",
            "price                          0\n",
            "review_scores_cleanliness      0\n",
            "availability_365               0\n",
            "review_scores_communication    0\n",
            "number_of_reviews              0\n",
            "dtype: int64\n"
          ]
        }
      ]
    },
    {
      "cell_type": "markdown",
      "source": [
        "**correlaciones**"
      ],
      "metadata": {
        "id": "bQ16PJH8cIyc"
      }
    },
    {
      "cell_type": "code",
      "source": [
        "FP.corr()"
      ],
      "metadata": {
        "colab": {
          "base_uri": "https://localhost:8080/",
          "height": 313
        },
        "id": "suCkjdPhcQfC",
        "outputId": "283d0fa9-075f-4dd8-8eb5-25b820579515"
      },
      "execution_count": null,
      "outputs": [
        {
          "output_type": "execute_result",
          "data": {
            "text/plain": [
              "                             host_acceptance_rate  review_scores_rating  \\\n",
              "host_acceptance_rate                     1.000000              0.001569   \n",
              "review_scores_rating                     0.001569              1.000000   \n",
              "price                                    0.118646              0.055498   \n",
              "review_scores_cleanliness                0.014294              0.665985   \n",
              "availability_365                         0.226749             -0.049065   \n",
              "review_scores_communication             -0.030593              0.581760   \n",
              "number_of_reviews                        0.201476             -0.035192   \n",
              "\n",
              "                                price  review_scores_cleanliness  \\\n",
              "host_acceptance_rate         0.118646                   0.014294   \n",
              "review_scores_rating         0.055498                   0.665985   \n",
              "price                        1.000000                   0.052583   \n",
              "review_scores_cleanliness    0.052583                   1.000000   \n",
              "availability_365             0.155181                  -0.021934   \n",
              "review_scores_communication -0.016363                   0.462754   \n",
              "number_of_reviews            0.067977                  -0.034166   \n",
              "\n",
              "                             availability_365  review_scores_communication  \\\n",
              "host_acceptance_rate                 0.226749                    -0.030593   \n",
              "review_scores_rating                -0.049065                     0.581760   \n",
              "price                                0.155181                    -0.016363   \n",
              "review_scores_cleanliness           -0.021934                     0.462754   \n",
              "availability_365                     1.000000                    -0.076813   \n",
              "review_scores_communication         -0.076813                     1.000000   \n",
              "number_of_reviews                    0.056843                    -0.076977   \n",
              "\n",
              "                             number_of_reviews  \n",
              "host_acceptance_rate                  0.201476  \n",
              "review_scores_rating                 -0.035192  \n",
              "price                                 0.067977  \n",
              "review_scores_cleanliness            -0.034166  \n",
              "availability_365                      0.056843  \n",
              "review_scores_communication          -0.076977  \n",
              "number_of_reviews                     1.000000  "
            ],
            "text/html": [
              "\n",
              "  <div id=\"df-43573efb-c5b7-483c-96bd-415ef3dbe0c6\">\n",
              "    <div class=\"colab-df-container\">\n",
              "      <div>\n",
              "<style scoped>\n",
              "    .dataframe tbody tr th:only-of-type {\n",
              "        vertical-align: middle;\n",
              "    }\n",
              "\n",
              "    .dataframe tbody tr th {\n",
              "        vertical-align: top;\n",
              "    }\n",
              "\n",
              "    .dataframe thead th {\n",
              "        text-align: right;\n",
              "    }\n",
              "</style>\n",
              "<table border=\"1\" class=\"dataframe\">\n",
              "  <thead>\n",
              "    <tr style=\"text-align: right;\">\n",
              "      <th></th>\n",
              "      <th>host_acceptance_rate</th>\n",
              "      <th>review_scores_rating</th>\n",
              "      <th>price</th>\n",
              "      <th>review_scores_cleanliness</th>\n",
              "      <th>availability_365</th>\n",
              "      <th>review_scores_communication</th>\n",
              "      <th>number_of_reviews</th>\n",
              "    </tr>\n",
              "  </thead>\n",
              "  <tbody>\n",
              "    <tr>\n",
              "      <th>host_acceptance_rate</th>\n",
              "      <td>1.000000</td>\n",
              "      <td>0.001569</td>\n",
              "      <td>0.118646</td>\n",
              "      <td>0.014294</td>\n",
              "      <td>0.226749</td>\n",
              "      <td>-0.030593</td>\n",
              "      <td>0.201476</td>\n",
              "    </tr>\n",
              "    <tr>\n",
              "      <th>review_scores_rating</th>\n",
              "      <td>0.001569</td>\n",
              "      <td>1.000000</td>\n",
              "      <td>0.055498</td>\n",
              "      <td>0.665985</td>\n",
              "      <td>-0.049065</td>\n",
              "      <td>0.581760</td>\n",
              "      <td>-0.035192</td>\n",
              "    </tr>\n",
              "    <tr>\n",
              "      <th>price</th>\n",
              "      <td>0.118646</td>\n",
              "      <td>0.055498</td>\n",
              "      <td>1.000000</td>\n",
              "      <td>0.052583</td>\n",
              "      <td>0.155181</td>\n",
              "      <td>-0.016363</td>\n",
              "      <td>0.067977</td>\n",
              "    </tr>\n",
              "    <tr>\n",
              "      <th>review_scores_cleanliness</th>\n",
              "      <td>0.014294</td>\n",
              "      <td>0.665985</td>\n",
              "      <td>0.052583</td>\n",
              "      <td>1.000000</td>\n",
              "      <td>-0.021934</td>\n",
              "      <td>0.462754</td>\n",
              "      <td>-0.034166</td>\n",
              "    </tr>\n",
              "    <tr>\n",
              "      <th>availability_365</th>\n",
              "      <td>0.226749</td>\n",
              "      <td>-0.049065</td>\n",
              "      <td>0.155181</td>\n",
              "      <td>-0.021934</td>\n",
              "      <td>1.000000</td>\n",
              "      <td>-0.076813</td>\n",
              "      <td>0.056843</td>\n",
              "    </tr>\n",
              "    <tr>\n",
              "      <th>review_scores_communication</th>\n",
              "      <td>-0.030593</td>\n",
              "      <td>0.581760</td>\n",
              "      <td>-0.016363</td>\n",
              "      <td>0.462754</td>\n",
              "      <td>-0.076813</td>\n",
              "      <td>1.000000</td>\n",
              "      <td>-0.076977</td>\n",
              "    </tr>\n",
              "    <tr>\n",
              "      <th>number_of_reviews</th>\n",
              "      <td>0.201476</td>\n",
              "      <td>-0.035192</td>\n",
              "      <td>0.067977</td>\n",
              "      <td>-0.034166</td>\n",
              "      <td>0.056843</td>\n",
              "      <td>-0.076977</td>\n",
              "      <td>1.000000</td>\n",
              "    </tr>\n",
              "  </tbody>\n",
              "</table>\n",
              "</div>\n",
              "      <button class=\"colab-df-convert\" onclick=\"convertToInteractive('df-43573efb-c5b7-483c-96bd-415ef3dbe0c6')\"\n",
              "              title=\"Convert this dataframe to an interactive table.\"\n",
              "              style=\"display:none;\">\n",
              "        \n",
              "  <svg xmlns=\"http://www.w3.org/2000/svg\" height=\"24px\"viewBox=\"0 0 24 24\"\n",
              "       width=\"24px\">\n",
              "    <path d=\"M0 0h24v24H0V0z\" fill=\"none\"/>\n",
              "    <path d=\"M18.56 5.44l.94 2.06.94-2.06 2.06-.94-2.06-.94-.94-2.06-.94 2.06-2.06.94zm-11 1L8.5 8.5l.94-2.06 2.06-.94-2.06-.94L8.5 2.5l-.94 2.06-2.06.94zm10 10l.94 2.06.94-2.06 2.06-.94-2.06-.94-.94-2.06-.94 2.06-2.06.94z\"/><path d=\"M17.41 7.96l-1.37-1.37c-.4-.4-.92-.59-1.43-.59-.52 0-1.04.2-1.43.59L10.3 9.45l-7.72 7.72c-.78.78-.78 2.05 0 2.83L4 21.41c.39.39.9.59 1.41.59.51 0 1.02-.2 1.41-.59l7.78-7.78 2.81-2.81c.8-.78.8-2.07 0-2.86zM5.41 20L4 18.59l7.72-7.72 1.47 1.35L5.41 20z\"/>\n",
              "  </svg>\n",
              "      </button>\n",
              "      \n",
              "  <style>\n",
              "    .colab-df-container {\n",
              "      display:flex;\n",
              "      flex-wrap:wrap;\n",
              "      gap: 12px;\n",
              "    }\n",
              "\n",
              "    .colab-df-convert {\n",
              "      background-color: #E8F0FE;\n",
              "      border: none;\n",
              "      border-radius: 50%;\n",
              "      cursor: pointer;\n",
              "      display: none;\n",
              "      fill: #1967D2;\n",
              "      height: 32px;\n",
              "      padding: 0 0 0 0;\n",
              "      width: 32px;\n",
              "    }\n",
              "\n",
              "    .colab-df-convert:hover {\n",
              "      background-color: #E2EBFA;\n",
              "      box-shadow: 0px 1px 2px rgba(60, 64, 67, 0.3), 0px 1px 3px 1px rgba(60, 64, 67, 0.15);\n",
              "      fill: #174EA6;\n",
              "    }\n",
              "\n",
              "    [theme=dark] .colab-df-convert {\n",
              "      background-color: #3B4455;\n",
              "      fill: #D2E3FC;\n",
              "    }\n",
              "\n",
              "    [theme=dark] .colab-df-convert:hover {\n",
              "      background-color: #434B5C;\n",
              "      box-shadow: 0px 1px 3px 1px rgba(0, 0, 0, 0.15);\n",
              "      filter: drop-shadow(0px 1px 2px rgba(0, 0, 0, 0.3));\n",
              "      fill: #FFFFFF;\n",
              "    }\n",
              "  </style>\n",
              "\n",
              "      <script>\n",
              "        const buttonEl =\n",
              "          document.querySelector('#df-43573efb-c5b7-483c-96bd-415ef3dbe0c6 button.colab-df-convert');\n",
              "        buttonEl.style.display =\n",
              "          google.colab.kernel.accessAllowed ? 'block' : 'none';\n",
              "\n",
              "        async function convertToInteractive(key) {\n",
              "          const element = document.querySelector('#df-43573efb-c5b7-483c-96bd-415ef3dbe0c6');\n",
              "          const dataTable =\n",
              "            await google.colab.kernel.invokeFunction('convertToInteractive',\n",
              "                                                     [key], {});\n",
              "          if (!dataTable) return;\n",
              "\n",
              "          const docLinkHtml = 'Like what you see? Visit the ' +\n",
              "            '<a target=\"_blank\" href=https://colab.research.google.com/notebooks/data_table.ipynb>data table notebook</a>'\n",
              "            + ' to learn more about interactive tables.';\n",
              "          element.innerHTML = '';\n",
              "          dataTable['output_type'] = 'display_data';\n",
              "          await google.colab.output.renderOutput(dataTable, element);\n",
              "          const docLink = document.createElement('div');\n",
              "          docLink.innerHTML = docLinkHtml;\n",
              "          element.appendChild(docLink);\n",
              "        }\n",
              "      </script>\n",
              "    </div>\n",
              "  </div>\n",
              "  "
            ]
          },
          "metadata": {},
          "execution_count": 275
        }
      ]
    },
    {
      "cell_type": "code",
      "source": [
        "column_sels=['host_acceptance_rate','review_scores_rating', 'price', 'review_scores_cleanliness', 'availability_365','review_scores_communication']\n",
        "x=FP.loc[:,column_sels]#variables explicativas\n",
        "\n",
        "y=FP['number_of_reviews']#target, variable dependiente\n",
        "\n",
        "fig, axs=plt.subplots(ncols=3,nrows=2,figsize=(16,8))\n",
        "\n",
        "#index=0\n",
        "\n",
        "axs=axs.flatten()\n",
        "for i, k in enumerate(column_sels):\n",
        "  sns.regplot(x=x[k],y=y,data=FP,ax=axs[i],color='lightblue')\n",
        "  plt.tight_layout(pad=0.4)"
      ],
      "metadata": {
        "colab": {
          "base_uri": "https://localhost:8080/",
          "height": 599
        },
        "id": "Tn_SmPRqcDze",
        "outputId": "08d0f0b7-f999-4504-8fe2-514f7d1e2d51"
      },
      "execution_count": null,
      "outputs": [
        {
          "output_type": "display_data",
          "data": {
            "text/plain": [
              "<Figure size 1152x576 with 6 Axes>"
            ],
            "image/png": "[encoded data removed]"
          },
          "metadata": {
            "needs_background": "light"
          }
        }
      ]
    },
    {
      "cell_type": "code",
      "source": [
        "corr=FP.corrwith(FP['number_of_reviews'])\n",
        "corr"
      ],
      "metadata": {
        "colab": {
          "base_uri": "https://localhost:8080/"
        },
        "id": "Q5wEqAf-cTy5",
        "outputId": "7cb147ad-170b-4f6a-9220-89f2124703cc"
      },
      "execution_count": null,
      "outputs": [
        {
          "output_type": "execute_result",
          "data": {
            "text/plain": [
              "host_acceptance_rate           0.201476\n",
              "review_scores_rating          -0.035192\n",
              "price                          0.067977\n",
              "review_scores_cleanliness     -0.034166\n",
              "availability_365               0.056843\n",
              "review_scores_communication   -0.076977\n",
              "number_of_reviews              1.000000\n",
              "dtype: float64"
            ]
          },
          "metadata": {},
          "execution_count": 277
        }
      ]
    },
    {
      "cell_type": "code",
      "source": [
        "#COEFICIENTE DE DETERMINACIÓN R^2\n",
        "coef_deter=pow(corr,2)\n",
        "coef_deter"
      ],
      "metadata": {
        "colab": {
          "base_uri": "https://localhost:8080/"
        },
        "id": "WikS7zLjcZj0",
        "outputId": "9676c01d-29a6-42e5-f8d2-a38693854e3e"
      },
      "execution_count": null,
      "outputs": [
        {
          "output_type": "execute_result",
          "data": {
            "text/plain": [
              "host_acceptance_rate           0.040593\n",
              "review_scores_rating           0.001238\n",
              "price                          0.004621\n",
              "review_scores_cleanliness      0.001167\n",
              "availability_365               0.003231\n",
              "review_scores_communication    0.005925\n",
              "number_of_reviews              1.000000\n",
              "dtype: float64"
            ]
          },
          "metadata": {},
          "execution_count": 278
        }
      ]
    },
    {
      "cell_type": "markdown",
      "source": [
        "**Selección de mejor modelo de Regresión Lineal Mult. considerando el coeficiente de correlación**\n",
        "\n",
        "\n",
        "---\n",
        "\n",
        "\n",
        "Departamento o habitación completa"
      ],
      "metadata": {
        "id": "o4ry6_hQctZo"
      }
    },
    {
      "cell_type": "code",
      "source": [
        "#Declaramos las variables dependientes e independientes para la regresión lineal\n",
        "Vars_Indep=FP[['host_acceptance_rate','price','availability_365','review_scores_communication']]\n",
        "Var_Dep= FP['number_of_reviews']\n",
        "\n",
        "from sklearn.linear_model import LinearRegression\n",
        "model= LinearRegression()\n",
        "type(model)\n",
        "#Ajustamos el modelo con las variables antes declaradas\n",
        "model.fit(X=Vars_Indep, y=Var_Dep)\n",
        "\n",
        "\n",
        "#obtener coeficientes para el modelo ajustado\n",
        "model.__dict__"
      ],
      "metadata": {
        "colab": {
          "base_uri": "https://localhost:8080/"
        },
        "id": "PHBCMhnNdBfr",
        "outputId": "a18ebdf4-6e1c-49eb-9fd1-67588b268021"
      },
      "execution_count": null,
      "outputs": [
        {
          "output_type": "execute_result",
          "data": {
            "text/plain": [
              "{'fit_intercept': True,\n",
              " 'normalize': 'deprecated',\n",
              " 'copy_X': True,\n",
              " 'n_jobs': None,\n",
              " 'positive': False,\n",
              " 'feature_names_in_': array(['host_acceptance_rate', 'price', 'availability_365',\n",
              "        'review_scores_communication'], dtype=object),\n",
              " 'n_features_in_': 4,\n",
              " 'coef_': array([ 3.91791017e-01,  9.34145952e-03,  7.48454702e-05, -9.46627155e+00]),\n",
              " '_residues': 2136945.831213864,\n",
              " 'rank_': 4,\n",
              " 'singular_': array([1.35911947e+04, 6.89323334e+03, 7.19505890e+02, 1.10856420e+01]),\n",
              " 'intercept_': 20.32407825613398}"
            ]
          },
          "metadata": {},
          "execution_count": 279
        }
      ]
    },
    {
      "cell_type": "markdown",
      "source": [
        "**Crear modelo**"
      ],
      "metadata": {
        "id": "UmLd4hMvfClz"
      }
    },
    {
      "cell_type": "code",
      "source": [
        "y_pred= model.predict(X=FP[['host_acceptance_rate','price','availability_365','review_scores_communication']])\n",
        "y_pred"
      ],
      "metadata": {
        "colab": {
          "base_uri": "https://localhost:8080/"
        },
        "id": "YSbne2APdZ9T",
        "outputId": "2be5ce8a-097d-4130-bae8-d15276cadd6d"
      },
      "execution_count": null,
      "outputs": [
        {
          "output_type": "execute_result",
          "data": {
            "text/plain": [
              "array([14.52183341,  8.98010943, 15.67473492, ..., 13.066321  ,\n",
              "       12.64174119,  8.13159415])"
            ]
          },
          "metadata": {},
          "execution_count": 280
        }
      ]
    },
    {
      "cell_type": "code",
      "source": [
        "#Coeficiente de Determinación del modelo\n",
        "coef_Deter=model.score(X=Vars_Indep, y=Var_Dep)\n",
        "coef_Deter"
      ],
      "metadata": {
        "colab": {
          "base_uri": "https://localhost:8080/"
        },
        "id": "cD21RcVDdggC",
        "outputId": "729ff64c-2511-4d08-e9a1-12fc0f646fd8"
      },
      "execution_count": null,
      "outputs": [
        {
          "output_type": "execute_result",
          "data": {
            "text/plain": [
              "0.047502834897851565"
            ]
          },
          "metadata": {},
          "execution_count": 281
        }
      ]
    },
    {
      "cell_type": "code",
      "source": [
        "coef_Correl=np.sqrt(coef_Deter)\n",
        "coef_Correl"
      ],
      "metadata": {
        "colab": {
          "base_uri": "https://localhost:8080/"
        },
        "id": "sxWweBj4djbu",
        "outputId": "8f9db185-af0e-4dc2-dfc1-521869bc08ad"
      },
      "execution_count": null,
      "outputs": [
        {
          "output_type": "execute_result",
          "data": {
            "text/plain": [
              "0.21795145078170863"
            ]
          },
          "metadata": {},
          "execution_count": 282
        }
      ]
    },
    {
      "cell_type": "markdown",
      "source": [
        "##**3.Tipo de habitación: Shared Room**"
      ],
      "metadata": {
        "id": "PLw_0MbAfKoe"
      }
    },
    {
      "cell_type": "code",
      "source": [
        "SR=SR[['host_acceptance_rate','review_scores_rating', 'price', 'review_scores_cleanliness', 'availability_365','review_scores_communication','number_of_reviews']]"
      ],
      "metadata": {
        "id": "5QAp-T_9fSBG"
      },
      "execution_count": null,
      "outputs": []
    },
    {
      "cell_type": "code",
      "source": [
        "SR.head()"
      ],
      "metadata": {
        "colab": {
          "base_uri": "https://localhost:8080/",
          "height": 206
        },
        "id": "aXAQ5jQefaZx",
        "outputId": "d920d080-7a9b-4d43-9c83-9e9ff744a997"
      },
      "execution_count": null,
      "outputs": [
        {
          "output_type": "execute_result",
          "data": {
            "text/plain": [
              "      host_acceptance_rate  review_scores_rating  price  \\\n",
              "219                    NaN                   NaN  102.0   \n",
              "230                    NaN                  5.00   49.0   \n",
              "1177                   NaN                   NaN  550.0   \n",
              "1184                   NaN                  4.81   20.0   \n",
              "1249                   NaN                   NaN   13.0   \n",
              "\n",
              "      review_scores_cleanliness  availability_365  \\\n",
              "219                         NaN               365   \n",
              "230                        4.93                 0   \n",
              "1177                        NaN                 0   \n",
              "1184                       4.59                 0   \n",
              "1249                        NaN                 0   \n",
              "\n",
              "      review_scores_communication  number_of_reviews  \n",
              "219                           NaN                  0  \n",
              "230                          5.00                 31  \n",
              "1177                          NaN                  0  \n",
              "1184                         4.91                 33  \n",
              "1249                          NaN                  0  "
            ],
            "text/html": [
              "\n",
              "  <div id=\"df-41b01b51-1f84-41be-8aea-2e37b1234a73\">\n",
              "    <div class=\"colab-df-container\">\n",
              "      <div>\n",
              "<style scoped>\n",
              "    .dataframe tbody tr th:only-of-type {\n",
              "        vertical-align: middle;\n",
              "    }\n",
              "\n",
              "    .dataframe tbody tr th {\n",
              "        vertical-align: top;\n",
              "    }\n",
              "\n",
              "    .dataframe thead th {\n",
              "        text-align: right;\n",
              "    }\n",
              "</style>\n",
              "<table border=\"1\" class=\"dataframe\">\n",
              "  <thead>\n",
              "    <tr style=\"text-align: right;\">\n",
              "      <th></th>\n",
              "      <th>host_acceptance_rate</th>\n",
              "      <th>review_scores_rating</th>\n",
              "      <th>price</th>\n",
              "      <th>review_scores_cleanliness</th>\n",
              "      <th>availability_365</th>\n",
              "      <th>review_scores_communication</th>\n",
              "      <th>number_of_reviews</th>\n",
              "    </tr>\n",
              "  </thead>\n",
              "  <tbody>\n",
              "    <tr>\n",
              "      <th>219</th>\n",
              "      <td>NaN</td>\n",
              "      <td>NaN</td>\n",
              "      <td>102.0</td>\n",
              "      <td>NaN</td>\n",
              "      <td>365</td>\n",
              "      <td>NaN</td>\n",
              "      <td>0</td>\n",
              "    </tr>\n",
              "    <tr>\n",
              "      <th>230</th>\n",
              "      <td>NaN</td>\n",
              "      <td>5.00</td>\n",
              "      <td>49.0</td>\n",
              "      <td>4.93</td>\n",
              "      <td>0</td>\n",
              "      <td>5.00</td>\n",
              "      <td>31</td>\n",
              "    </tr>\n",
              "    <tr>\n",
              "      <th>1177</th>\n",
              "      <td>NaN</td>\n",
              "      <td>NaN</td>\n",
              "      <td>550.0</td>\n",
              "      <td>NaN</td>\n",
              "      <td>0</td>\n",
              "      <td>NaN</td>\n",
              "      <td>0</td>\n",
              "    </tr>\n",
              "    <tr>\n",
              "      <th>1184</th>\n",
              "      <td>NaN</td>\n",
              "      <td>4.81</td>\n",
              "      <td>20.0</td>\n",
              "      <td>4.59</td>\n",
              "      <td>0</td>\n",
              "      <td>4.91</td>\n",
              "      <td>33</td>\n",
              "    </tr>\n",
              "    <tr>\n",
              "      <th>1249</th>\n",
              "      <td>NaN</td>\n",
              "      <td>NaN</td>\n",
              "      <td>13.0</td>\n",
              "      <td>NaN</td>\n",
              "      <td>0</td>\n",
              "      <td>NaN</td>\n",
              "      <td>0</td>\n",
              "    </tr>\n",
              "  </tbody>\n",
              "</table>\n",
              "</div>\n",
              "      <button class=\"colab-df-convert\" onclick=\"convertToInteractive('df-41b01b51-1f84-41be-8aea-2e37b1234a73')\"\n",
              "              title=\"Convert this dataframe to an interactive table.\"\n",
              "              style=\"display:none;\">\n",
              "        \n",
              "  <svg xmlns=\"http://www.w3.org/2000/svg\" height=\"24px\"viewBox=\"0 0 24 24\"\n",
              "       width=\"24px\">\n",
              "    <path d=\"M0 0h24v24H0V0z\" fill=\"none\"/>\n",
              "    <path d=\"M18.56 5.44l.94 2.06.94-2.06 2.06-.94-2.06-.94-.94-2.06-.94 2.06-2.06.94zm-11 1L8.5 8.5l.94-2.06 2.06-.94-2.06-.94L8.5 2.5l-.94 2.06-2.06.94zm10 10l.94 2.06.94-2.06 2.06-.94-2.06-.94-.94-2.06-.94 2.06-2.06.94z\"/><path d=\"M17.41 7.96l-1.37-1.37c-.4-.4-.92-.59-1.43-.59-.52 0-1.04.2-1.43.59L10.3 9.45l-7.72 7.72c-.78.78-.78 2.05 0 2.83L4 21.41c.39.39.9.59 1.41.59.51 0 1.02-.2 1.41-.59l7.78-7.78 2.81-2.81c.8-.78.8-2.07 0-2.86zM5.41 20L4 18.59l7.72-7.72 1.47 1.35L5.41 20z\"/>\n",
              "  </svg>\n",
              "      </button>\n",
              "      \n",
              "  <style>\n",
              "    .colab-df-container {\n",
              "      display:flex;\n",
              "      flex-wrap:wrap;\n",
              "      gap: 12px;\n",
              "    }\n",
              "\n",
              "    .colab-df-convert {\n",
              "      background-color: #E8F0FE;\n",
              "      border: none;\n",
              "      border-radius: 50%;\n",
              "      cursor: pointer;\n",
              "      display: none;\n",
              "      fill: #1967D2;\n",
              "      height: 32px;\n",
              "      padding: 0 0 0 0;\n",
              "      width: 32px;\n",
              "    }\n",
              "\n",
              "    .colab-df-convert:hover {\n",
              "      background-color: #E2EBFA;\n",
              "      box-shadow: 0px 1px 2px rgba(60, 64, 67, 0.3), 0px 1px 3px 1px rgba(60, 64, 67, 0.15);\n",
              "      fill: #174EA6;\n",
              "    }\n",
              "\n",
              "    [theme=dark] .colab-df-convert {\n",
              "      background-color: #3B4455;\n",
              "      fill: #D2E3FC;\n",
              "    }\n",
              "\n",
              "    [theme=dark] .colab-df-convert:hover {\n",
              "      background-color: #434B5C;\n",
              "      box-shadow: 0px 1px 3px 1px rgba(0, 0, 0, 0.15);\n",
              "      filter: drop-shadow(0px 1px 2px rgba(0, 0, 0, 0.3));\n",
              "      fill: #FFFFFF;\n",
              "    }\n",
              "  </style>\n",
              "\n",
              "      <script>\n",
              "        const buttonEl =\n",
              "          document.querySelector('#df-41b01b51-1f84-41be-8aea-2e37b1234a73 button.colab-df-convert');\n",
              "        buttonEl.style.display =\n",
              "          google.colab.kernel.accessAllowed ? 'block' : 'none';\n",
              "\n",
              "        async function convertToInteractive(key) {\n",
              "          const element = document.querySelector('#df-41b01b51-1f84-41be-8aea-2e37b1234a73');\n",
              "          const dataTable =\n",
              "            await google.colab.kernel.invokeFunction('convertToInteractive',\n",
              "                                                     [key], {});\n",
              "          if (!dataTable) return;\n",
              "\n",
              "          const docLinkHtml = 'Like what you see? Visit the ' +\n",
              "            '<a target=\"_blank\" href=https://colab.research.google.com/notebooks/data_table.ipynb>data table notebook</a>'\n",
              "            + ' to learn more about interactive tables.';\n",
              "          element.innerHTML = '';\n",
              "          dataTable['output_type'] = 'display_data';\n",
              "          await google.colab.output.renderOutput(dataTable, element);\n",
              "          const docLink = document.createElement('div');\n",
              "          docLink.innerHTML = docLinkHtml;\n",
              "          element.appendChild(docLink);\n",
              "        }\n",
              "      </script>\n",
              "    </div>\n",
              "  </div>\n",
              "  "
            ]
          },
          "metadata": {},
          "execution_count": 284
        }
      ]
    },
    {
      "cell_type": "markdown",
      "source": [
        "**Contar nulos**"
      ],
      "metadata": {
        "id": "rXkAmsSFfkXk"
      }
    },
    {
      "cell_type": "code",
      "source": [
        "valores_nulos=SR.isnull().sum()\n",
        "print(valores_nulos)"
      ],
      "metadata": {
        "colab": {
          "base_uri": "https://localhost:8080/"
        },
        "id": "_h4s4a3GfbGn",
        "outputId": "bd9814b5-3269-40d7-d675-b41110ca7b5f"
      },
      "execution_count": null,
      "outputs": [
        {
          "output_type": "stream",
          "name": "stdout",
          "text": [
            "host_acceptance_rate           44\n",
            "review_scores_rating           25\n",
            "price                           0\n",
            "review_scores_cleanliness      27\n",
            "availability_365                0\n",
            "review_scores_communication    27\n",
            "number_of_reviews               0\n",
            "dtype: int64\n"
          ]
        }
      ]
    },
    {
      "cell_type": "markdown",
      "source": [
        "**Reemplazar valores**"
      ],
      "metadata": {
        "id": "hpBvHfzjfmkM"
      }
    },
    {
      "cell_type": "code",
      "source": [
        "from numpy import nan as NaN\n",
        "SR=SR.fillna({'host_acceptance_rate':float(SR['host_acceptance_rate'].mean())})\n",
        "SR=SR.fillna({'review_scores_rating':float(SR['review_scores_rating'].mean())})\n",
        "SR=SR.fillna({'price':float(SR['price'].mean())})\n",
        "SR=SR.fillna({'review_scores_cleanliness':float(SR['review_scores_cleanliness'].mean())})\n",
        "SR=SR.fillna({'review_scores_communication':float(SR['review_scores_communication'].mean())})\n",
        "SR=SR.fillna({'number_of_reviews':float(SR['number_of_reviews'].mean())})\n",
        "\n",
        "valores_nulos=SR.isnull().sum()\n",
        "print(valores_nulos)"
      ],
      "metadata": {
        "colab": {
          "base_uri": "https://localhost:8080/"
        },
        "id": "NLKQXa01flzC",
        "outputId": "7cd85b1d-e197-4142-d9fe-3c6c454c662c"
      },
      "execution_count": null,
      "outputs": [
        {
          "output_type": "stream",
          "name": "stdout",
          "text": [
            "host_acceptance_rate           0\n",
            "review_scores_rating           0\n",
            "price                          0\n",
            "review_scores_cleanliness      0\n",
            "availability_365               0\n",
            "review_scores_communication    0\n",
            "number_of_reviews              0\n",
            "dtype: int64\n"
          ]
        }
      ]
    },
    {
      "cell_type": "markdown",
      "source": [
        "**Outliers**"
      ],
      "metadata": {
        "id": "SWfzxwM9f1dc"
      }
    },
    {
      "cell_type": "code",
      "source": [
        "y=SR\n",
        "\n",
        "percentile25=y.quantile(0.25) #Q1\n",
        "percentile75=y.quantile(0.75) #Q3\n",
        "iqr= percentile75 - percentile25\n",
        "\n",
        "Limite_Superior_iqr= percentile75 + 1.5*iqr\n",
        "Limite_Inferior_iqr= percentile25 - 1.5*iqr\n",
        "print(\"Limite superior permitido\", Limite_Superior_iqr)\n",
        "print(\"Limite inferior permitido\", Limite_Inferior_iqr)\n"
      ],
      "metadata": {
        "colab": {
          "base_uri": "https://localhost:8080/"
        },
        "id": "Rd0KP-0Cf03_",
        "outputId": "b9445253-5279-44a5-fb19-099cc18b38f7"
      },
      "execution_count": null,
      "outputs": [
        {
          "output_type": "stream",
          "name": "stdout",
          "text": [
            "Limite superior permitido host_acceptance_rate            89.884615\n",
            "review_scores_rating             5.424250\n",
            "price                           95.125000\n",
            "review_scores_cleanliness        5.231250\n",
            "availability_365               568.125000\n",
            "review_scores_communication      5.223256\n",
            "number_of_reviews               26.250000\n",
            "dtype: float64\n",
            "Limite inferior permitido host_acceptance_rate            83.423077\n",
            "review_scores_rating             3.979583\n",
            "price                          -13.875000\n",
            "review_scores_cleanliness        4.181250\n",
            "availability_365              -340.875000\n",
            "review_scores_communication      4.627907\n",
            "number_of_reviews              -15.750000\n",
            "dtype: float64\n"
          ]
        }
      ]
    },
    {
      "cell_type": "code",
      "source": [
        "SR=SR[(y<=Limite_Superior_iqr)&(y>=Limite_Inferior_iqr)]"
      ],
      "metadata": {
        "id": "lTHHlgfkf-RH"
      },
      "execution_count": null,
      "outputs": []
    },
    {
      "cell_type": "code",
      "source": [
        "valores_nulos=SR.isnull().sum()\n",
        "print(valores_nulos)"
      ],
      "metadata": {
        "colab": {
          "base_uri": "https://localhost:8080/"
        },
        "id": "lxuHW6M9gQ-q",
        "outputId": "6f3a263e-f645-4e31-cd69-3ad2d56f45ec"
      },
      "execution_count": null,
      "outputs": [
        {
          "output_type": "stream",
          "name": "stdout",
          "text": [
            "host_acceptance_rate           25\n",
            "review_scores_rating            2\n",
            "price                          12\n",
            "review_scores_cleanliness       6\n",
            "availability_365                0\n",
            "review_scores_communication     9\n",
            "number_of_reviews               6\n",
            "dtype: int64\n"
          ]
        }
      ]
    },
    {
      "cell_type": "code",
      "source": [
        "SR=SR.fillna({'host_acceptance_rate':float(SR['host_acceptance_rate'].mean())})\n",
        "SR=SR.fillna({'review_scores_rating':float(SR['review_scores_rating'].mean())})\n",
        "SR=SR.fillna({'price':float(SR['price'].mean())})\n",
        "\n",
        "SR=SR.fillna({'review_scores_cleanliness':float(SR['review_scores_cleanliness'].mean())})\n",
        "SR=SR.fillna({'review_scores_communication':float(SR['review_scores_communication'].mean())})\n",
        "SR=SR.fillna({'number_of_reviews':(SR['number_of_reviews'].mean())})\n",
        "\n",
        "valores_nulos=SR.isnull().sum()\n",
        "print(valores_nulos)"
      ],
      "metadata": {
        "colab": {
          "base_uri": "https://localhost:8080/"
        },
        "id": "XnDRJ6i8gA_i",
        "outputId": "3759e876-437d-4b51-a501-08af8db645ec"
      },
      "execution_count": null,
      "outputs": [
        {
          "output_type": "stream",
          "name": "stdout",
          "text": [
            "host_acceptance_rate           0\n",
            "review_scores_rating           0\n",
            "price                          0\n",
            "review_scores_cleanliness      0\n",
            "availability_365               0\n",
            "review_scores_communication    0\n",
            "number_of_reviews              0\n",
            "dtype: int64\n"
          ]
        }
      ]
    },
    {
      "cell_type": "markdown",
      "source": [
        "**Correlaciones**"
      ],
      "metadata": {
        "id": "zkJL-FXvgYje"
      }
    },
    {
      "cell_type": "code",
      "source": [
        "SR.corr()"
      ],
      "metadata": {
        "colab": {
          "base_uri": "https://localhost:8080/",
          "height": 313
        },
        "id": "jEtoFLSxgXVC",
        "outputId": "219b1c8f-799a-4436-9e94-8b365f5b9a8d"
      },
      "execution_count": null,
      "outputs": [
        {
          "output_type": "execute_result",
          "data": {
            "text/plain": [
              "                             host_acceptance_rate  review_scores_rating  \\\n",
              "host_acceptance_rate                     1.000000             -0.127301   \n",
              "review_scores_rating                    -0.127301              1.000000   \n",
              "price                                    0.029678              0.025266   \n",
              "review_scores_cleanliness               -0.138386              0.736056   \n",
              "availability_365                        -0.017072              0.042758   \n",
              "review_scores_communication             -0.156876              0.519114   \n",
              "number_of_reviews                        0.471754             -0.012890   \n",
              "\n",
              "                                price  review_scores_cleanliness  \\\n",
              "host_acceptance_rate         0.029678                  -0.138386   \n",
              "review_scores_rating         0.025266                   0.736056   \n",
              "price                        1.000000                  -0.030640   \n",
              "review_scores_cleanliness   -0.030640                   1.000000   \n",
              "availability_365             0.283304                  -0.080967   \n",
              "review_scores_communication -0.085604                   0.619441   \n",
              "number_of_reviews            0.050458                  -0.126576   \n",
              "\n",
              "                             availability_365  review_scores_communication  \\\n",
              "host_acceptance_rate                -0.017072                    -0.156876   \n",
              "review_scores_rating                 0.042758                     0.519114   \n",
              "price                                0.283304                    -0.085604   \n",
              "review_scores_cleanliness           -0.080967                     0.619441   \n",
              "availability_365                     1.000000                    -0.185248   \n",
              "review_scores_communication         -0.185248                     1.000000   \n",
              "number_of_reviews                    0.123311                    -0.037588   \n",
              "\n",
              "                             number_of_reviews  \n",
              "host_acceptance_rate                  0.471754  \n",
              "review_scores_rating                 -0.012890  \n",
              "price                                 0.050458  \n",
              "review_scores_cleanliness            -0.126576  \n",
              "availability_365                      0.123311  \n",
              "review_scores_communication          -0.037588  \n",
              "number_of_reviews                     1.000000  "
            ],
            "text/html": [
              "\n",
              "  <div id=\"df-11d2acf6-9596-416d-ba36-17416ffb99dc\">\n",
              "    <div class=\"colab-df-container\">\n",
              "      <div>\n",
              "<style scoped>\n",
              "    .dataframe tbody tr th:only-of-type {\n",
              "        vertical-align: middle;\n",
              "    }\n",
              "\n",
              "    .dataframe tbody tr th {\n",
              "        vertical-align: top;\n",
              "    }\n",
              "\n",
              "    .dataframe thead th {\n",
              "        text-align: right;\n",
              "    }\n",
              "</style>\n",
              "<table border=\"1\" class=\"dataframe\">\n",
              "  <thead>\n",
              "    <tr style=\"text-align: right;\">\n",
              "      <th></th>\n",
              "      <th>host_acceptance_rate</th>\n",
              "      <th>review_scores_rating</th>\n",
              "      <th>price</th>\n",
              "      <th>review_scores_cleanliness</th>\n",
              "      <th>availability_365</th>\n",
              "      <th>review_scores_communication</th>\n",
              "      <th>number_of_reviews</th>\n",
              "    </tr>\n",
              "  </thead>\n",
              "  <tbody>\n",
              "    <tr>\n",
              "      <th>host_acceptance_rate</th>\n",
              "      <td>1.000000</td>\n",
              "      <td>-0.127301</td>\n",
              "      <td>0.029678</td>\n",
              "      <td>-0.138386</td>\n",
              "      <td>-0.017072</td>\n",
              "      <td>-0.156876</td>\n",
              "      <td>0.471754</td>\n",
              "    </tr>\n",
              "    <tr>\n",
              "      <th>review_scores_rating</th>\n",
              "      <td>-0.127301</td>\n",
              "      <td>1.000000</td>\n",
              "      <td>0.025266</td>\n",
              "      <td>0.736056</td>\n",
              "      <td>0.042758</td>\n",
              "      <td>0.519114</td>\n",
              "      <td>-0.012890</td>\n",
              "    </tr>\n",
              "    <tr>\n",
              "      <th>price</th>\n",
              "      <td>0.029678</td>\n",
              "      <td>0.025266</td>\n",
              "      <td>1.000000</td>\n",
              "      <td>-0.030640</td>\n",
              "      <td>0.283304</td>\n",
              "      <td>-0.085604</td>\n",
              "      <td>0.050458</td>\n",
              "    </tr>\n",
              "    <tr>\n",
              "      <th>review_scores_cleanliness</th>\n",
              "      <td>-0.138386</td>\n",
              "      <td>0.736056</td>\n",
              "      <td>-0.030640</td>\n",
              "      <td>1.000000</td>\n",
              "      <td>-0.080967</td>\n",
              "      <td>0.619441</td>\n",
              "      <td>-0.126576</td>\n",
              "    </tr>\n",
              "    <tr>\n",
              "      <th>availability_365</th>\n",
              "      <td>-0.017072</td>\n",
              "      <td>0.042758</td>\n",
              "      <td>0.283304</td>\n",
              "      <td>-0.080967</td>\n",
              "      <td>1.000000</td>\n",
              "      <td>-0.185248</td>\n",
              "      <td>0.123311</td>\n",
              "    </tr>\n",
              "    <tr>\n",
              "      <th>review_scores_communication</th>\n",
              "      <td>-0.156876</td>\n",
              "      <td>0.519114</td>\n",
              "      <td>-0.085604</td>\n",
              "      <td>0.619441</td>\n",
              "      <td>-0.185248</td>\n",
              "      <td>1.000000</td>\n",
              "      <td>-0.037588</td>\n",
              "    </tr>\n",
              "    <tr>\n",
              "      <th>number_of_reviews</th>\n",
              "      <td>0.471754</td>\n",
              "      <td>-0.012890</td>\n",
              "      <td>0.050458</td>\n",
              "      <td>-0.126576</td>\n",
              "      <td>0.123311</td>\n",
              "      <td>-0.037588</td>\n",
              "      <td>1.000000</td>\n",
              "    </tr>\n",
              "  </tbody>\n",
              "</table>\n",
              "</div>\n",
              "      <button class=\"colab-df-convert\" onclick=\"convertToInteractive('df-11d2acf6-9596-416d-ba36-17416ffb99dc')\"\n",
              "              title=\"Convert this dataframe to an interactive table.\"\n",
              "              style=\"display:none;\">\n",
              "        \n",
              "  <svg xmlns=\"http://www.w3.org/2000/svg\" height=\"24px\"viewBox=\"0 0 24 24\"\n",
              "       width=\"24px\">\n",
              "    <path d=\"M0 0h24v24H0V0z\" fill=\"none\"/>\n",
              "    <path d=\"M18.56 5.44l.94 2.06.94-2.06 2.06-.94-2.06-.94-.94-2.06-.94 2.06-2.06.94zm-11 1L8.5 8.5l.94-2.06 2.06-.94-2.06-.94L8.5 2.5l-.94 2.06-2.06.94zm10 10l.94 2.06.94-2.06 2.06-.94-2.06-.94-.94-2.06-.94 2.06-2.06.94z\"/><path d=\"M17.41 7.96l-1.37-1.37c-.4-.4-.92-.59-1.43-.59-.52 0-1.04.2-1.43.59L10.3 9.45l-7.72 7.72c-.78.78-.78 2.05 0 2.83L4 21.41c.39.39.9.59 1.41.59.51 0 1.02-.2 1.41-.59l7.78-7.78 2.81-2.81c.8-.78.8-2.07 0-2.86zM5.41 20L4 18.59l7.72-7.72 1.47 1.35L5.41 20z\"/>\n",
              "  </svg>\n",
              "      </button>\n",
              "      \n",
              "  <style>\n",
              "    .colab-df-container {\n",
              "      display:flex;\n",
              "      flex-wrap:wrap;\n",
              "      gap: 12px;\n",
              "    }\n",
              "\n",
              "    .colab-df-convert {\n",
              "      background-color: #E8F0FE;\n",
              "      border: none;\n",
              "      border-radius: 50%;\n",
              "      cursor: pointer;\n",
              "      display: none;\n",
              "      fill: #1967D2;\n",
              "      height: 32px;\n",
              "      padding: 0 0 0 0;\n",
              "      width: 32px;\n",
              "    }\n",
              "\n",
              "    .colab-df-convert:hover {\n",
              "      background-color: #E2EBFA;\n",
              "      box-shadow: 0px 1px 2px rgba(60, 64, 67, 0.3), 0px 1px 3px 1px rgba(60, 64, 67, 0.15);\n",
              "      fill: #174EA6;\n",
              "    }\n",
              "\n",
              "    [theme=dark] .colab-df-convert {\n",
              "      background-color: #3B4455;\n",
              "      fill: #D2E3FC;\n",
              "    }\n",
              "\n",
              "    [theme=dark] .colab-df-convert:hover {\n",
              "      background-color: #434B5C;\n",
              "      box-shadow: 0px 1px 3px 1px rgba(0, 0, 0, 0.15);\n",
              "      filter: drop-shadow(0px 1px 2px rgba(0, 0, 0, 0.3));\n",
              "      fill: #FFFFFF;\n",
              "    }\n",
              "  </style>\n",
              "\n",
              "      <script>\n",
              "        const buttonEl =\n",
              "          document.querySelector('#df-11d2acf6-9596-416d-ba36-17416ffb99dc button.colab-df-convert');\n",
              "        buttonEl.style.display =\n",
              "          google.colab.kernel.accessAllowed ? 'block' : 'none';\n",
              "\n",
              "        async function convertToInteractive(key) {\n",
              "          const element = document.querySelector('#df-11d2acf6-9596-416d-ba36-17416ffb99dc');\n",
              "          const dataTable =\n",
              "            await google.colab.kernel.invokeFunction('convertToInteractive',\n",
              "                                                     [key], {});\n",
              "          if (!dataTable) return;\n",
              "\n",
              "          const docLinkHtml = 'Like what you see? Visit the ' +\n",
              "            '<a target=\"_blank\" href=https://colab.research.google.com/notebooks/data_table.ipynb>data table notebook</a>'\n",
              "            + ' to learn more about interactive tables.';\n",
              "          element.innerHTML = '';\n",
              "          dataTable['output_type'] = 'display_data';\n",
              "          await google.colab.output.renderOutput(dataTable, element);\n",
              "          const docLink = document.createElement('div');\n",
              "          docLink.innerHTML = docLinkHtml;\n",
              "          element.appendChild(docLink);\n",
              "        }\n",
              "      </script>\n",
              "    </div>\n",
              "  </div>\n",
              "  "
            ]
          },
          "metadata": {},
          "execution_count": 291
        }
      ]
    },
    {
      "cell_type": "code",
      "source": [
        "column_sels=['host_acceptance_rate','review_scores_rating', 'price', 'review_scores_cleanliness', 'availability_365','review_scores_communication']\n",
        "x=SR.loc[:,column_sels]#variables explicativas\n",
        "\n",
        "y=SR['number_of_reviews']#target, variable dependiente\n",
        "\n",
        "fig, axs=plt.subplots(ncols=3,nrows=2,figsize=(16,8))\n",
        "\n",
        "#index=0\n",
        "\n",
        "axs=axs.flatten()\n",
        "for i, k in enumerate(column_sels):\n",
        "  sns.regplot(x=x[k],y=y,data=SR,ax=axs[i],color='lightpink')\n",
        "  plt.tight_layout(pad=0.4)"
      ],
      "metadata": {
        "colab": {
          "base_uri": "https://localhost:8080/",
          "height": 599
        },
        "id": "Z36gYTAGmUU6",
        "outputId": "14adfcb9-f5ee-4a26-b0bd-07d23e744ec6"
      },
      "execution_count": null,
      "outputs": [
        {
          "output_type": "display_data",
          "data": {
            "text/plain": [
              "<Figure size 1152x576 with 6 Axes>"
            ],
            "image/png": "[encoded data removed]"
          },
          "metadata": {
            "needs_background": "light"
          }
        }
      ]
    },
    {
      "cell_type": "code",
      "source": [
        "corr=SR.corrwith(SR['number_of_reviews'])\n",
        "corr"
      ],
      "metadata": {
        "colab": {
          "base_uri": "https://localhost:8080/"
        },
        "id": "27zQ2Kf5mfH4",
        "outputId": "90b6b8a6-8920-44c5-a59f-a7271fa72589"
      },
      "execution_count": null,
      "outputs": [
        {
          "output_type": "execute_result",
          "data": {
            "text/plain": [
              "host_acceptance_rate           0.471754\n",
              "review_scores_rating          -0.012890\n",
              "price                          0.050458\n",
              "review_scores_cleanliness     -0.126576\n",
              "availability_365               0.123311\n",
              "review_scores_communication   -0.037588\n",
              "number_of_reviews              1.000000\n",
              "dtype: float64"
            ]
          },
          "metadata": {},
          "execution_count": 293
        }
      ]
    },
    {
      "cell_type": "code",
      "source": [
        "#COEFICIENTE DE DETERMINACIÓN R^2\n",
        "coef_deter=pow(corr,2)\n",
        "coef_deter"
      ],
      "metadata": {
        "colab": {
          "base_uri": "https://localhost:8080/"
        },
        "id": "guv77H4Rmnt8",
        "outputId": "2ac9767b-b197-4a4d-f694-fdde28fb24be"
      },
      "execution_count": null,
      "outputs": [
        {
          "output_type": "execute_result",
          "data": {
            "text/plain": [
              "host_acceptance_rate           0.222552\n",
              "review_scores_rating           0.000166\n",
              "price                          0.002546\n",
              "review_scores_cleanliness      0.016022\n",
              "availability_365               0.015206\n",
              "review_scores_communication    0.001413\n",
              "number_of_reviews              1.000000\n",
              "dtype: float64"
            ]
          },
          "metadata": {},
          "execution_count": 294
        }
      ]
    },
    {
      "cell_type": "markdown",
      "source": [
        "**Selección de mejor modelo de Regresión Lineal Mult. considerando el coeficiente de correlación**\n",
        "---\n",
        "Habitación Compartida"
      ],
      "metadata": {
        "id": "CpQ6-SmKm7G2"
      }
    },
    {
      "cell_type": "code",
      "source": [
        "#Declaramos las variables dependientes e independientes para la regresión lineal\n",
        "Vars_Indep=SR[['host_acceptance_rate','review_scores_cleanliness','availability_365']]\n",
        "Var_Dep= SR['number_of_reviews']\n",
        "\n",
        "from sklearn.linear_model import LinearRegression\n",
        "model= LinearRegression()\n",
        "type(model)\n",
        "#Ajustamos el modelo con las variables antes declaradas\n",
        "model.fit(X=Vars_Indep, y=Var_Dep)\n",
        "\n",
        "\n",
        "#obtener coeficientes para el modelo ajustado\n",
        "model.__dict__"
      ],
      "metadata": {
        "colab": {
          "base_uri": "https://localhost:8080/"
        },
        "id": "TSaEb-Klm2FM",
        "outputId": "8ffa11b1-5650-4479-8b20-9b21fd3feb3c"
      },
      "execution_count": null,
      "outputs": [
        {
          "output_type": "execute_result",
          "data": {
            "text/plain": [
              "{'fit_intercept': True,\n",
              " 'normalize': 'deprecated',\n",
              " 'copy_X': True,\n",
              " 'n_jobs': None,\n",
              " 'positive': False,\n",
              " 'feature_names_in_': array(['host_acceptance_rate', 'review_scores_cleanliness',\n",
              "        'availability_365'], dtype=object),\n",
              " 'n_features_in_': 3,\n",
              " 'coef_': array([ 1.07478178e+01, -1.62261691e+00,  5.07461533e-03]),\n",
              " '_residues': 1821.942778745471,\n",
              " 'rank_': 3,\n",
              " 'singular_': array([1228.21765296,    2.15234572,    1.52535595]),\n",
              " 'intercept_': -911.7860823690751}"
            ]
          },
          "metadata": {},
          "execution_count": 300
        }
      ]
    },
    {
      "cell_type": "markdown",
      "source": [
        "**Crear modelo**"
      ],
      "metadata": {
        "id": "Ivx9IGCnnU0i"
      }
    },
    {
      "cell_type": "code",
      "source": [
        "y_pred= model.predict(X=SR[['host_acceptance_rate','review_scores_cleanliness','availability_365']])\n",
        "y_pred"
      ],
      "metadata": {
        "colab": {
          "base_uri": "https://localhost:8080/"
        },
        "id": "_MouCVWinUX_",
        "outputId": "86176b5d-8db9-4455-dce8-9cbedf068389"
      },
      "execution_count": null,
      "outputs": [
        {
          "output_type": "execute_result",
          "data": {
            "text/plain": [
              "array([ 5.20999052,  2.87323497,  3.35775592,  3.42492472,  3.35775592,\n",
              "        3.24725642,  5.2049159 ,  3.35775592,  2.75965178,  2.75965178,\n",
              "        3.35775592,  3.35775592,  3.48982939,  2.75965178,  2.75965178,\n",
              "        3.35775592,  2.75965178,  2.75965178,  2.75965178,  3.35775592,\n",
              "        3.24725642,  3.35775592,  3.35775592,  3.35775592,  3.24725642,\n",
              "        3.57096024,  3.35775592,  3.35775592,  3.35775592,  3.35775592,\n",
              "        3.57096024,  2.75965178,  4.56810416,  3.57096024,  3.08417516,\n",
              "        3.24725642,  3.35775592, 26.77085238,  3.35775592,  3.35775592,\n",
              "        4.57058899,  3.07621958,  5.47858527,  5.12474252,  4.95421649,\n",
              "        5.38943584,  2.75965178,  3.35775592,  5.32810514,  5.63640235,\n",
              "        5.35448054,  6.31082219,  5.12631184,  3.35775592,  5.20999052,\n",
              "        4.87521005,  3.87218139,  5.52181684,  6.07244127,  5.57839417,\n",
              "        5.06034185,  3.87218139,  5.74791789,  3.98314307,  5.51824287,\n",
              "        3.94868609,  3.72151972,  3.89247985,  4.470986  ,  5.02989415])"
            ]
          },
          "metadata": {},
          "execution_count": 301
        }
      ]
    },
    {
      "cell_type": "code",
      "source": [
        "#Coeficiente de Determinación del modelo\n",
        "coef_Deter=model.score(X=Vars_Indep, y=Var_Dep)\n",
        "coef_Deter"
      ],
      "metadata": {
        "colab": {
          "base_uri": "https://localhost:8080/"
        },
        "id": "iEe83s6GpJBu",
        "outputId": "a2048744-3044-496e-9c20-9f4c4a1e91b6"
      },
      "execution_count": null,
      "outputs": [
        {
          "output_type": "execute_result",
          "data": {
            "text/plain": [
              "0.24241574729261495"
            ]
          },
          "metadata": {},
          "execution_count": 302
        }
      ]
    },
    {
      "cell_type": "code",
      "source": [
        "coef_Correl=np.sqrt(coef_Deter)\n",
        "coef_Correl"
      ],
      "metadata": {
        "colab": {
          "base_uri": "https://localhost:8080/"
        },
        "id": "tKqeOWPJpR4Z",
        "outputId": "f8926d18-d6e1-411b-9213-9eb695295bae"
      },
      "execution_count": null,
      "outputs": [
        {
          "output_type": "execute_result",
          "data": {
            "text/plain": [
              "0.49235733699480394"
            ]
          },
          "metadata": {},
          "execution_count": 304
        }
      ]
    }
  ]
}